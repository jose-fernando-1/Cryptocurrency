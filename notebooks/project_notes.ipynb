{
 "cells": [
  {
   "cell_type": "markdown",
   "id": "8d51bf50",
   "metadata": {},
   "source": [
    "# Project notes\n",
    "## Plan\n",
    "* Three models:\n",
    "    - LR\n",
    "    - Time series\n",
    "    - Neural network\n",
    "\n",
    "Data ✅"
   ]
  },
  {
   "cell_type": "markdown",
   "id": "92738e0a",
   "metadata": {},
   "source": []
  }
 ],
 "metadata": {
  "language_info": {
   "name": "python"
  }
 },
 "nbformat": 4,
 "nbformat_minor": 5
}
