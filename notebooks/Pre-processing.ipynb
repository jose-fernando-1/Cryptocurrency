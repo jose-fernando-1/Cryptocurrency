{
 "cells": [
  {
   "cell_type": "code",
   "execution_count": 1,
   "id": "790a6f7559f958ce",
   "metadata": {
    "ExecuteTime": {
     "end_time": "2025-09-16T14:23:10.212959Z",
     "start_time": "2025-09-16T14:23:10.208352Z"
    }
   },
   "outputs": [],
   "source": [
    "import pandas as pd\n",
    "import matplotlib.pyplot as plt\n",
    "import numpy as np"
   ]
  },
  {
   "cell_type": "markdown",
   "id": "9f12d99a58584229",
   "metadata": {},
   "source": [
    "# Pre-processing"
   ]
  },
  {
   "cell_type": "code",
   "execution_count": 2,
   "id": "ac931cb1df844c3c",
   "metadata": {
    "ExecuteTime": {
     "end_time": "2025-09-16T14:23:11.218051Z",
     "start_time": "2025-09-16T14:23:10.221524Z"
    }
   },
   "outputs": [],
   "source": [
    "df_bitcoin = pd.read_csv(\"../data/bitcoin.csv\", na_values=[\"null\", \"\"], keep_default_na=True, index_col=0, parse_dates=[\"date\"])\n",
    "df_rates = pd.read_csv(\"../data/FEDFUNDS.csv\", parse_dates=[\"observation_date\"])\n",
    "df_gold = pd.read_csv(\"../data/gold_5min.csv\", sep=\";\", parse_dates=[\"Date\"])"
   ]
  },
  {
   "cell_type": "code",
   "execution_count": 3,
   "id": "7d46696a09f8cfa8",
   "metadata": {
    "ExecuteTime": {
     "end_time": "2025-09-16T14:23:11.279658Z",
     "start_time": "2025-09-16T14:23:11.275136Z"
    }
   },
   "outputs": [
    {
     "data": {
      "text/plain": [
       "array(['date', 'active_addresses', 'tweets', 'top_100_percent',\n",
       "       'difficulty', 'transactions', 'av_transaction_size', 'market_cap',\n",
       "       'confirmation_time', 'median_transaction_value', 'send_usd',\n",
       "       'google_trends', 'block_size', 'mining_profitability', 'hashrate',\n",
       "       'sent_addresses', 'median_transaction_size', 'fee_reward',\n",
       "       'av_transaction_value', 'full_name', 'coin'], dtype=object)"
      ]
     },
     "execution_count": 3,
     "metadata": {},
     "output_type": "execute_result"
    }
   ],
   "source": [
    "df_bitcoin.columns.values"
   ]
  },
  {
   "cell_type": "code",
   "execution_count": 4,
   "id": "f1adce96a7311d2f",
   "metadata": {
    "ExecuteTime": {
     "end_time": "2025-09-16T14:23:11.338043Z",
     "start_time": "2025-09-16T14:23:11.332662Z"
    }
   },
   "outputs": [
    {
     "data": {
      "text/plain": [
       "array(['observation_date', 'FEDFUNDS'], dtype=object)"
      ]
     },
     "execution_count": 4,
     "metadata": {},
     "output_type": "execute_result"
    }
   ],
   "source": [
    "df_rates.columns.values"
   ]
  },
  {
   "cell_type": "code",
   "execution_count": 5,
   "id": "66188edfeffe15c1",
   "metadata": {
    "ExecuteTime": {
     "end_time": "2025-09-16T14:23:11.394997Z",
     "start_time": "2025-09-16T14:23:11.389440Z"
    }
   },
   "outputs": [
    {
     "data": {
      "text/plain": [
       "array(['Date', 'Open', 'High', 'Low', 'Close', 'Volume'], dtype=object)"
      ]
     },
     "execution_count": 5,
     "metadata": {},
     "output_type": "execute_result"
    }
   ],
   "source": [
    "df_gold.columns.values"
   ]
  },
  {
   "cell_type": "code",
   "execution_count": 6,
   "id": "e3af7132e413388d",
   "metadata": {
    "ExecuteTime": {
     "end_time": "2025-09-16T14:23:11.458677Z",
     "start_time": "2025-09-16T14:23:11.452468Z"
    }
   },
   "outputs": [
    {
     "data": {
      "text/plain": [
       "Date      datetime64[ns]\n",
       "Open             float64\n",
       "High             float64\n",
       "Low              float64\n",
       "Close            float64\n",
       "Volume             int64\n",
       "dtype: object"
      ]
     },
     "execution_count": 6,
     "metadata": {},
     "output_type": "execute_result"
    }
   ],
   "source": [
    "df_gold.dtypes"
   ]
  },
  {
   "cell_type": "code",
   "execution_count": 7,
   "id": "a923d2e2f9273299",
   "metadata": {
    "ExecuteTime": {
     "end_time": "2025-09-16T14:23:11.582829Z",
     "start_time": "2025-09-16T14:23:11.573855Z"
    }
   },
   "outputs": [
    {
     "data": {
      "text/plain": [
       "date                        datetime64[ns]\n",
       "active_addresses                   float64\n",
       "tweets                             float64\n",
       "top_100_percent                    float64\n",
       "difficulty                         float64\n",
       "transactions                       float64\n",
       "av_transaction_size                float64\n",
       "market_cap                         float64\n",
       "confirmation_time                  float64\n",
       "median_transaction_value           float64\n",
       "send_usd                           float64\n",
       "google_trends                      float64\n",
       "block_size                         float64\n",
       "mining_profitability               float64\n",
       "hashrate                           float64\n",
       "sent_addresses                     float64\n",
       "median_transaction_size            float64\n",
       "fee_reward                         float64\n",
       "av_transaction_value               float64\n",
       "full_name                           object\n",
       "coin                                object\n",
       "dtype: object"
      ]
     },
     "execution_count": 7,
     "metadata": {},
     "output_type": "execute_result"
    }
   ],
   "source": [
    "df_bitcoin.dtypes"
   ]
  },
  {
   "cell_type": "code",
   "execution_count": 8,
   "id": "5701148384a0dd74",
   "metadata": {
    "ExecuteTime": {
     "end_time": "2025-09-16T14:23:11.851729Z",
     "start_time": "2025-09-16T14:23:11.845195Z"
    }
   },
   "outputs": [
    {
     "data": {
      "text/plain": [
       "observation_date    datetime64[ns]\n",
       "FEDFUNDS                   float64\n",
       "dtype: object"
      ]
     },
     "execution_count": 8,
     "metadata": {},
     "output_type": "execute_result"
    }
   ],
   "source": [
    "df_rates.dtypes"
   ]
  },
  {
   "cell_type": "code",
   "execution_count": 9,
   "id": "da553ccae4252d80",
   "metadata": {
    "ExecuteTime": {
     "end_time": "2025-09-16T14:23:11.984196Z",
     "start_time": "2025-09-16T14:23:11.979Z"
    }
   },
   "outputs": [
    {
     "data": {
      "text/plain": [
       "(4378, 21)"
      ]
     },
     "execution_count": 9,
     "metadata": {},
     "output_type": "execute_result"
    }
   ],
   "source": [
    "df_bitcoin.shape"
   ]
  },
  {
   "cell_type": "code",
   "execution_count": 10,
   "id": "e5c636789ba9e953",
   "metadata": {
    "ExecuteTime": {
     "end_time": "2025-09-16T14:23:12.099353Z",
     "start_time": "2025-09-16T14:23:12.094086Z"
    }
   },
   "outputs": [
    {
     "data": {
      "text/plain": [
       "(121, 2)"
      ]
     },
     "execution_count": 10,
     "metadata": {},
     "output_type": "execute_result"
    }
   ],
   "source": [
    "df_rates.shape"
   ]
  },
  {
   "cell_type": "code",
   "execution_count": 11,
   "id": "45e09b5173dc061",
   "metadata": {
    "ExecuteTime": {
     "end_time": "2025-09-16T14:23:12.166089Z",
     "start_time": "2025-09-16T14:23:12.156668Z"
    }
   },
   "outputs": [
    {
     "data": {
      "text/plain": [
       "date                           0\n",
       "active_addresses              27\n",
       "tweets                      1978\n",
       "top_100_percent               12\n",
       "difficulty                     6\n",
       "transactions                 261\n",
       "av_transaction_size         4378\n",
       "market_cap                   561\n",
       "confirmation_time              8\n",
       "median_transaction_value     561\n",
       "send_usd                     561\n",
       "google_trends                570\n",
       "block_size                     6\n",
       "mining_profitability         561\n",
       "hashrate                       7\n",
       "sent_addresses                 8\n",
       "median_transaction_size     1205\n",
       "fee_reward                   641\n",
       "av_transaction_value         561\n",
       "full_name                      0\n",
       "coin                           0\n",
       "dtype: int64"
      ]
     },
     "execution_count": 11,
     "metadata": {},
     "output_type": "execute_result"
    }
   ],
   "source": [
    "df_bitcoin.isna().sum()"
   ]
  },
  {
   "cell_type": "code",
   "execution_count": 12,
   "id": "dd38cdba76a790f2",
   "metadata": {
    "ExecuteTime": {
     "end_time": "2025-09-16T14:23:12.296163Z",
     "start_time": "2025-09-16T14:23:12.290639Z"
    }
   },
   "outputs": [
    {
     "data": {
      "text/plain": [
       "array(['date', 'active_addresses', 'tweets', 'top_100_percent',\n",
       "       'difficulty', 'transactions', 'av_transaction_size', 'market_cap',\n",
       "       'confirmation_time', 'median_transaction_value', 'send_usd',\n",
       "       'google_trends', 'block_size', 'mining_profitability', 'hashrate',\n",
       "       'sent_addresses', 'median_transaction_size', 'fee_reward',\n",
       "       'av_transaction_value', 'full_name', 'coin'], dtype=object)"
      ]
     },
     "execution_count": 12,
     "metadata": {},
     "output_type": "execute_result"
    }
   ],
   "source": [
    "df_bitcoin.columns.values"
   ]
  },
  {
   "cell_type": "code",
   "execution_count": 13,
   "id": "fcc34888b1bfc6d2",
   "metadata": {
    "ExecuteTime": {
     "end_time": "2025-09-16T14:23:12.430454Z",
     "start_time": "2025-09-16T14:23:12.421731Z"
    }
   },
   "outputs": [
    {
     "data": {
      "text/plain": [
       "date                        4378\n",
       "active_addresses            4351\n",
       "tweets                      2400\n",
       "top_100_percent             4366\n",
       "difficulty                  4372\n",
       "transactions                4117\n",
       "av_transaction_size            0\n",
       "market_cap                  3817\n",
       "confirmation_time           4370\n",
       "median_transaction_value    3817\n",
       "send_usd                    3817\n",
       "google_trends               3808\n",
       "block_size                  4372\n",
       "mining_profitability        3817\n",
       "hashrate                    4371\n",
       "sent_addresses              4370\n",
       "median_transaction_size     3173\n",
       "fee_reward                  3737\n",
       "av_transaction_value        3817\n",
       "full_name                   4378\n",
       "coin                        4378\n",
       "dtype: int64"
      ]
     },
     "execution_count": 13,
     "metadata": {},
     "output_type": "execute_result"
    }
   ],
   "source": [
    "df_bitcoin.count()"
   ]
  },
  {
   "cell_type": "code",
   "execution_count": 14,
   "id": "877dbac61b790228",
   "metadata": {
    "ExecuteTime": {
     "end_time": "2025-09-16T14:23:12.538996Z",
     "start_time": "2025-09-16T14:23:12.534379Z"
    }
   },
   "outputs": [
    {
     "data": {
      "text/plain": [
       "(4378, 21)"
      ]
     },
     "execution_count": 14,
     "metadata": {},
     "output_type": "execute_result"
    }
   ],
   "source": [
    "df_bitcoin.shape"
   ]
  },
  {
   "cell_type": "code",
   "execution_count": 15,
   "id": "6fa6022e98ceecd4",
   "metadata": {
    "ExecuteTime": {
     "end_time": "2025-09-16T14:23:12.678773Z",
     "start_time": "2025-09-16T14:23:12.661804Z"
    }
   },
   "outputs": [],
   "source": [
    "df_bitcoin = df_bitcoin.sort_values('date').reset_index(drop=True)\n",
    "df_bitcoin['tweets'] = df_bitcoin['tweets'].fillna(0)\n",
    "df_bitcoin['google_trends'] = df_bitcoin['google_trends'].fillna(0)\n",
    "start = max(df_bitcoin['date'].min(), df_rates['observation_date'].min(), df_gold['Date'].min())\n",
    "end   = min(df_bitcoin['date'].max(), df_rates['observation_date'].max(), df_gold['Date'].max())\n",
    "daily_range = pd.date_range(start, end, freq='D')\n",
    "\n",
    "df_rates = df_rates.sort_values('observation_date').reset_index(drop=True)\n",
    "df_rates = df_rates.rename(columns={'observation_date': 'date'})"
   ]
  },
  {
   "cell_type": "code",
   "execution_count": 16,
   "id": "3b04c38f",
   "metadata": {},
   "outputs": [
    {
     "name": "stdout",
     "output_type": "stream",
     "text": [
      "🔍 BEFORE DATA CLEANING:\n",
      "  Shape: (4378, 21)\n",
      "  Columns: 21\n",
      "\n",
      "📊 DATA QUALITY ANALYSIS:\n",
      "  av_transaction_size missing: 4378 / 4378 (100.0%)\n",
      "  ❌ av_transaction_size: 100% missing - will be removed\n",
      "  ❌ full_name: Non-informative categorical - will be removed\n",
      "  ❌ coin: Non-informative categorical - will be removed\n",
      "  ❌ confirmation_time: May have quality issues - will be removed\n",
      "\n",
      "✅ REMOVED COLUMNS: ['av_transaction_size', 'full_name', 'coin', 'confirmation_time']\n",
      "\n",
      "🎯 AFTER DATA CLEANING:\n",
      "  Shape: (4378, 17)\n",
      "  Columns: 17\n",
      "  Columns removed: 4\n",
      "  ✅ Dataset cleaned and ready for processing\n"
     ]
    }
   ],
   "source": [
    "# 🔧 COMPREHENSIVE DATA CLEANING\n",
    "print(\"🔍 BEFORE DATA CLEANING:\")\n",
    "print(f\"  Shape: {df_bitcoin.shape}\")\n",
    "print(f\"  Columns: {len(df_bitcoin.columns)}\")\n",
    "\n",
    "# Check for columns with quality issues\n",
    "print(f\"\\n📊 DATA QUALITY ANALYSIS:\")\n",
    "\n",
    "# Check if av_transaction_size exists and analyze it\n",
    "if 'av_transaction_size' in df_bitcoin.columns:\n",
    "    missing_pct = df_bitcoin['av_transaction_size'].isna().sum() / len(df_bitcoin) * 100\n",
    "    print(f\"  av_transaction_size missing: {df_bitcoin['av_transaction_size'].isna().sum()} / {len(df_bitcoin)} ({missing_pct:.1f}%)\")\n",
    "else:\n",
    "    print(f\"  av_transaction_size: Already removed or not present\")\n",
    "\n",
    "# Define columns to remove for data quality reasons\n",
    "columns_to_remove = []\n",
    "\n",
    "# 1. Remove completely missing columns (100% missing values)\n",
    "if 'av_transaction_size' in df_bitcoin.columns:\n",
    "    if df_bitcoin['av_transaction_size'].isna().sum() == len(df_bitcoin):\n",
    "        columns_to_remove.append('av_transaction_size')\n",
    "        print(f\"  ❌ av_transaction_size: 100% missing - will be removed\")\n",
    "\n",
    "# 2. Remove non-informative categorical columns\n",
    "non_informative_cols = ['full_name', 'coin']\n",
    "for col in non_informative_cols:\n",
    "    if col in df_bitcoin.columns:\n",
    "        columns_to_remove.append(col)\n",
    "        print(f\"  ❌ {col}: Non-informative categorical - will be removed\")\n",
    "    else:\n",
    "        print(f\"  ✅ {col}: Already removed or not present\")\n",
    "\n",
    "# 3. Remove problematic columns (quality issues)\n",
    "if 'confirmation_time' in df_bitcoin.columns:\n",
    "    columns_to_remove.append('confirmation_time')\n",
    "    print(f\"  ❌ confirmation_time: May have quality issues - will be removed\")\n",
    "else:\n",
    "    print(f\"  ✅ confirmation_time: Already removed or not present\")\n",
    "\n",
    "# Apply all removals at once\n",
    "if columns_to_remove:\n",
    "    df_bitcoin = df_bitcoin.drop(columns=columns_to_remove)\n",
    "    print(f\"\\n✅ REMOVED COLUMNS: {columns_to_remove}\")\n",
    "else:\n",
    "    print(f\"\\n✅ No problematic columns found to remove\")\n",
    "\n",
    "print(f\"\\n🎯 AFTER DATA CLEANING:\")\n",
    "print(f\"  Shape: {df_bitcoin.shape}\")\n",
    "print(f\"  Columns: {len(df_bitcoin.columns)}\")\n",
    "print(f\"  Columns removed: {len(columns_to_remove)}\")\n",
    "print(f\"  ✅ Dataset cleaned and ready for processing\")"
   ]
  },
  {
   "cell_type": "code",
   "execution_count": 17,
   "id": "14803e97a591b16f",
   "metadata": {
    "ExecuteTime": {
     "end_time": "2025-09-16T14:23:12.733305Z",
     "start_time": "2025-09-16T14:23:12.720023Z"
    }
   },
   "outputs": [],
   "source": [
    "target_col = 'send_usd'\n",
    "df_btc_daily = (\n",
    "    df_bitcoin.set_index('date')\n",
    "    .sort_index()\n",
    "    .reindex(daily_range)\n",
    "    .rename_axis('date')\n",
    ")\n",
    "numeric_cols = df_btc_daily.select_dtypes(include=[np.number]).columns.tolist()\n",
    "feature_cols_to_ffill = [c for c in numeric_cols if c != target_col]\n",
    "df_btc_daily[feature_cols_to_ffill] = df_btc_daily[feature_cols_to_ffill].ffill()"
   ]
  },
  {
   "cell_type": "code",
   "execution_count": 18,
   "id": "1437befaa77f7fd6",
   "metadata": {
    "ExecuteTime": {
     "end_time": "2025-09-16T14:23:12.776219Z",
     "start_time": "2025-09-16T14:23:12.770327Z"
    }
   },
   "outputs": [],
   "source": [
    "df_rates_daily = df_rates.set_index('date').sort_index()\n",
    "df_rates_daily = df_rates_daily.reindex(daily_range).rename_axis('date')\n",
    "df_rates_daily['FEDFUNDS'] = df_rates_daily['FEDFUNDS'].ffill()"
   ]
  },
  {
   "cell_type": "code",
   "execution_count": 19,
   "id": "d25c92f7050a697e",
   "metadata": {
    "ExecuteTime": {
     "end_time": "2025-09-16T14:23:12.990110Z",
     "start_time": "2025-09-16T14:23:12.822696Z"
    }
   },
   "outputs": [
    {
     "name": "stdout",
     "output_type": "stream",
     "text": [
      "🔍 GOLD DATA PROCESSING:\n",
      "Original gold data shape: (1413022, 6)\n",
      "Missing values before interpolation:\n",
      "  Open: 582 missing values\n",
      "  High: 582 missing values\n",
      "  Low: 582 missing values\n",
      "  Close: 582 missing values\n",
      "\n",
      "Missing values after cleaning:\n",
      "  Open: 0 missing values ✅\n",
      "  High: 0 missing values ✅\n",
      "  Low: 0 missing values ✅\n",
      "  Close: 0 missing values ✅\n",
      "✅ Gold data processed successfully\n",
      "Final gold data shape: (1977, 5)\n"
     ]
    }
   ],
   "source": [
    "# 🥇 GOLD DATA PROCESSING WITH MISSING VALUE HANDLING\n",
    "print(\"🔍 GOLD DATA PROCESSING:\")\n",
    "print(f\"Original gold data shape: {df_gold.shape}\")\n",
    "\n",
    "df_gold = df_gold.dropna(subset=['Date']).sort_values('Date')\n",
    "\n",
    "df_gold_daily = (\n",
    "    df_gold\n",
    "    .set_index('Date')\n",
    "    .resample('D')\n",
    "    .agg({'Open': 'first', 'High': 'max', 'Low': 'min', 'Close': 'last', 'Volume': 'sum'})\n",
    ")\n",
    "\n",
    "df_gold_daily = df_gold_daily.reindex(daily_range).rename_axis('date')\n",
    "\n",
    "# Handle missing values in gold prices with interpolation\n",
    "price_cols = ['Open', 'High', 'Low', 'Close']\n",
    "\n",
    "print(f\"Missing values before interpolation:\")\n",
    "for col in price_cols:\n",
    "    missing_count = df_gold_daily[col].isna().sum()\n",
    "    print(f\"  {col}: {missing_count} missing values\")\n",
    "\n",
    "# Use forward fill first, then backward fill for any remaining NaN\n",
    "df_gold_daily[price_cols] = df_gold_daily[price_cols].ffill().bfill()\n",
    "\n",
    "# For any remaining missing values, use interpolation\n",
    "df_gold_daily[price_cols] = df_gold_daily[price_cols].interpolate(method='linear')\n",
    "\n",
    "print(f\"\\nMissing values after cleaning:\")\n",
    "for col in price_cols:\n",
    "    missing_count = df_gold_daily[col].isna().sum()\n",
    "    status = \"✅\" if missing_count == 0 else \"❌\"\n",
    "    print(f\"  {col}: {missing_count} missing values {status}\")\n",
    "\n",
    "# Handle volume separately (fill with 0 for missing days)\n",
    "df_gold_daily['Volume'] = df_gold_daily['Volume'].fillna(0)\n",
    "\n",
    "# Rename columns to be more descriptive\n",
    "df_gold_daily = df_gold_daily.rename(columns={\n",
    "    'Open': 'gold_open',\n",
    "    'High': 'gold_high',\n",
    "    'Low': 'gold_low',\n",
    "    'Close': 'gold_close',\n",
    "    'Volume': 'gold_volume'\n",
    "})\n",
    "\n",
    "print(f\"✅ Gold data processed successfully\")\n",
    "print(f\"Final gold data shape: {df_gold_daily.shape}\")"
   ]
  },
  {
   "cell_type": "code",
   "execution_count": 20,
   "id": "3185831568f4f2e1",
   "metadata": {
    "ExecuteTime": {
     "end_time": "2025-09-16T14:23:13.003342Z",
     "start_time": "2025-09-16T14:23:12.998893Z"
    }
   },
   "outputs": [],
   "source": [
    "df_merged = df_btc_daily.join([df_rates_daily['FEDFUNDS'], df_gold_daily])"
   ]
  },
  {
   "cell_type": "code",
   "execution_count": 21,
   "id": "802c144c6e4725a4",
   "metadata": {
    "ExecuteTime": {
     "end_time": "2025-09-16T14:23:13.095644Z",
     "start_time": "2025-09-16T14:23:13.087886Z"
    }
   },
   "outputs": [],
   "source": [
    "df_merged[target_col] = pd.to_numeric(df_merged[target_col], errors='coerce')\n",
    "df_merged = df_merged[(df_merged[target_col].notna()) & (df_merged[target_col] > 0)]"
   ]
  },
  {
   "cell_type": "code",
   "execution_count": 22,
   "id": "64943e2e30592245",
   "metadata": {
    "ExecuteTime": {
     "end_time": "2025-09-16T14:23:13.151026Z",
     "start_time": "2025-09-16T14:23:13.145455Z"
    }
   },
   "outputs": [
    {
     "data": {
      "text/plain": [
       "(1976, 22)"
      ]
     },
     "execution_count": 22,
     "metadata": {},
     "output_type": "execute_result"
    }
   ],
   "source": [
    "df_merged.shape"
   ]
  },
  {
   "cell_type": "code",
   "execution_count": 23,
   "id": "fc9d88cd4555b407",
   "metadata": {
    "ExecuteTime": {
     "end_time": "2025-09-16T14:23:13.206694Z",
     "start_time": "2025-09-16T14:23:13.202014Z"
    }
   },
   "outputs": [
    {
     "data": {
      "text/plain": [
       "array(['active_addresses', 'tweets', 'top_100_percent', 'difficulty',\n",
       "       'transactions', 'market_cap', 'median_transaction_value',\n",
       "       'send_usd', 'google_trends', 'block_size', 'mining_profitability',\n",
       "       'hashrate', 'sent_addresses', 'median_transaction_size',\n",
       "       'fee_reward', 'av_transaction_value', 'FEDFUNDS', 'gold_open',\n",
       "       'gold_high', 'gold_low', 'gold_close', 'gold_volume'], dtype=object)"
      ]
     },
     "execution_count": 23,
     "metadata": {},
     "output_type": "execute_result"
    }
   ],
   "source": [
    "df_merged.columns.values"
   ]
  },
  {
   "cell_type": "code",
   "execution_count": 24,
   "id": "fe5881367bb03655",
   "metadata": {
    "ExecuteTime": {
     "end_time": "2025-09-16T14:23:13.274277Z",
     "start_time": "2025-09-16T14:23:13.265947Z"
    }
   },
   "outputs": [
    {
     "data": {
      "text/plain": [
       "active_addresses            0\n",
       "tweets                      0\n",
       "top_100_percent             0\n",
       "difficulty                  0\n",
       "transactions                0\n",
       "market_cap                  0\n",
       "median_transaction_value    0\n",
       "send_usd                    0\n",
       "google_trends               0\n",
       "block_size                  0\n",
       "mining_profitability        0\n",
       "hashrate                    0\n",
       "sent_addresses              0\n",
       "median_transaction_size     0\n",
       "fee_reward                  0\n",
       "av_transaction_value        0\n",
       "FEDFUNDS                    0\n",
       "gold_open                   0\n",
       "gold_high                   0\n",
       "gold_low                    0\n",
       "gold_close                  0\n",
       "gold_volume                 0\n",
       "dtype: int64"
      ]
     },
     "execution_count": 24,
     "metadata": {},
     "output_type": "execute_result"
    }
   ],
   "source": [
    "df_merged.isna().sum()"
   ]
  },
  {
   "cell_type": "code",
   "execution_count": 25,
   "id": "cfeda885b43c240a",
   "metadata": {
    "ExecuteTime": {
     "end_time": "2025-09-16T14:23:13.578768Z",
     "start_time": "2025-09-16T14:23:13.374581Z"
    }
   },
   "outputs": [
    {
     "name": "stdout",
     "output_type": "stream",
     "text": [
      "Ranges por dataset:\n",
      "        dataset               start                 end  days    rows\n",
      "       gold_raw 2004-06-11 07:15:00 2025-07-15 19:45:00  7705 1413022\n",
      "    bitcoin_raw 2009-01-03 00:00:00 2020-12-28 00:00:00  4378    4378\n",
      "      rates_raw 2015-08-01 00:00:00 2025-08-01 00:00:00  3654     121\n",
      "  btc_daily_idx 2015-08-01 00:00:00 2020-12-28 00:00:00  1977    1977\n",
      "rates_daily_idx 2015-08-01 00:00:00 2020-12-28 00:00:00  1977    1977\n",
      " gold_daily_idx 2015-08-01 00:00:00 2020-12-28 00:00:00  1977    1977\n",
      "     merged_idx 2015-08-01 00:00:00 2020-12-27 00:00:00  1976    1976\n",
      "\n",
      "Cobertura FEDFUNDS (dados mensais originais):\n",
      "  FEDFUNDS começa em: 2015-08-01  | termina em: 2025-08-01\n",
      "\n",
      "No merge: 0 NaNs em FEDFUNDS de 1976 linhas\n",
      "  NaNs antes do primeiro FEDFUNDS: 0\n",
      "  NaNs após o último FEDFUNDS:    0\n"
     ]
    },
    {
     "data": {
      "image/png": "[encoded data removed]",
      "text/plain": [
       "<Figure size 1000x400 with 1 Axes>"
      ]
     },
     "metadata": {},
     "output_type": "display_data"
    }
   ],
   "source": [
    "# python\n",
    "def _col_or(df, candidates):\n",
    "    for c in candidates:\n",
    "        if c in df.columns:\n",
    "            return c\n",
    "    raise KeyError(f\"Nenhuma das colunas {candidates} foi encontrada em {list(df.columns)}\")\n",
    "\n",
    "btc_date_col = _col_or(df_bitcoin, ['date'])\n",
    "rates_date_col = _col_or(df_rates, ['date', 'observation_date'])\n",
    "gold_date_col = _col_or(df_gold, ['Date', 'date'])\n",
    "\n",
    "ranges = []\n",
    "\n",
    "def add_range(name, idx, n_rows=None):\n",
    "    start, end = pd.to_datetime(idx.min()), pd.to_datetime(idx.max())\n",
    "    n_days = (end.normalize() - start.normalize()).days + 1\n",
    "    ranges.append((name, start, end, n_days, n_rows if n_rows is not None else len(idx)))\n",
    "\n",
    "add_range('bitcoin_raw', df_bitcoin[btc_date_col], len(df_bitcoin))\n",
    "add_range('rates_raw', df_rates[rates_date_col], len(df_rates))\n",
    "add_range('gold_raw', df_gold[gold_date_col], len(df_gold))\n",
    "\n",
    "add_range('btc_daily_idx', df_btc_daily.index)\n",
    "add_range('rates_daily_idx', df_rates_daily.index)\n",
    "add_range('gold_daily_idx', df_gold_daily.index)\n",
    "add_range('merged_idx', df_merged.index, len(df_merged))\n",
    "\n",
    "ranges_df = pd.DataFrame(ranges, columns=['dataset', 'start', 'end', 'days', 'rows']).sort_values('start')\n",
    "print(\"Ranges por dataset:\")\n",
    "print(ranges_df.to_string(index=False))\n",
    "\n",
    "first_rate = pd.to_datetime(df_rates[rates_date_col].min())\n",
    "last_rate  = pd.to_datetime(df_rates[rates_date_col].max())\n",
    "print(\"\\nCobertura FEDFUNDS (dados mensais originais):\")\n",
    "print(f\"  FEDFUNDS começa em: {first_rate.date()}  | termina em: {last_rate.date()}\")\n",
    "\n",
    "n_total = len(df_merged)\n",
    "n_nan = df_merged['FEDFUNDS'].isna().sum()\n",
    "print(f\"\\nNo merge: {n_nan} NaNs em FEDFUNDS de {n_total} linhas\")\n",
    "\n",
    "mask_before = (df_merged.index < first_rate) & df_merged['FEDFUNDS'].isna()\n",
    "mask_after  = (df_merged.index > last_rate) & df_merged['FEDFUNDS'].isna()\n",
    "print(f\"  NaNs antes do primeiro FEDFUNDS: {mask_before.sum()}\")\n",
    "print(f\"  NaNs após o último FEDFUNDS:    {mask_after.sum()}\")\n",
    "\n",
    "fig, ax = plt.subplots(figsize=(10, 0.5 + 0.5*len(ranges_df)))\n",
    "ypos = np.arange(len(ranges_df))\n",
    "ax.set_yticks(ypos)\n",
    "ax.set_yticklabels(ranges_df['dataset'])\n",
    "\n",
    "for i, row in enumerate(ranges_df.itertuples(index=False)):\n",
    "    ax.hlines(y=i, xmin=row.start, xmax=row.end, color='tab:blue', linewidth=6, alpha=0.7)\n",
    "    ax.plot([row.start, row.end], [i, i], 'o', color='tab:blue', alpha=0.9, markersize=4)\n",
    "\n",
    "ax.axvspan(first_rate, last_rate, color='tab:orange', alpha=0.15, label='Cobertura FEDFUNDS (raw)')\n",
    "ax.grid(axis='x', linestyle='--', alpha=0.3)\n",
    "ax.set_title('Ranges dos datasets (início e fim)')\n",
    "ax.legend(loc='upper left', frameon=False)\n",
    "fig.autofmt_xdate()\n",
    "plt.tight_layout()\n",
    "plt.show()"
   ]
  },
  {
   "cell_type": "code",
   "execution_count": 26,
   "id": "721312ab04da2e9b",
   "metadata": {
    "ExecuteTime": {
     "end_time": "2025-09-16T14:23:13.741783Z",
     "start_time": "2025-09-16T14:23:13.678379Z"
    }
   },
   "outputs": [],
   "source": [
    "df_merged.to_csv(\"../data/dataset_merged.csv\", index=True, encoding=\"utf-8\", float_format='%.2f')"
   ]
  },
  {
   "cell_type": "markdown",
   "id": "bef73186",
   "metadata": {},
   "source": [
    "## Adicionando preços do Bitcoin\n",
    "\n",
    "Agora vamos integrar os dados de preço do Bitcoin para criar o dataset final com a coluna btc_price:"
   ]
  },
  {
   "cell_type": "code",
   "execution_count": 27,
   "id": "243d2039",
   "metadata": {},
   "outputs": [
    {
     "name": "stdout",
     "output_type": "stream",
     "text": [
      "Shape: (5541, 1)\n",
      "Range: 2010-07-17 00:00:00 to 2025-09-16 00:00:00\n",
      "            btc_price\n",
      "date                 \n",
      "2010-07-17     0.0495\n",
      "2010-07-18     0.0726\n",
      "2010-07-19     0.0859\n",
      "2010-07-20     0.0783\n",
      "2010-07-21     0.0767\n"
     ]
    }
   ],
   "source": [
    "df_btc_price = pd.read_csv(\"../data/bitcoin_price.csv\", parse_dates=['Date'])\n",
    "df_btc_price.columns = ['date', 'btc_price']\n",
    "df_btc_price = df_btc_price.set_index('date')\n",
    "\n",
    "print(f\"Shape: {df_btc_price.shape}\")\n",
    "print(f\"Range: {df_btc_price.index.min()} to {df_btc_price.index.max()}\")\n",
    "print(df_btc_price.head())"
   ]
  },
  {
   "cell_type": "code",
   "execution_count": 28,
   "id": "a6bf8c12",
   "metadata": {},
   "outputs": [
    {
     "name": "stdout",
     "output_type": "stream",
     "text": [
      "Shape after reindex: (1977, 1)\n",
      "\n",
      "Overlap: 2015-08-01 00:00:00 a 2020-12-27 00:00:00\n"
     ]
    }
   ],
   "source": [
    "df_btc_price_daily = df_btc_price.reindex(daily_range)\n",
    "print(f\"Shape after reindex: {df_btc_price_daily.shape}\")\n",
    "\n",
    "# overlap\n",
    "overlap_start = max(df_merged.index.min(), df_btc_price_daily.index.min())\n",
    "overlap_end = min(df_merged.index.max(), df_btc_price_daily.index.max())\n",
    "print(f\"\\nOverlap: {overlap_start} a {overlap_end}\")"
   ]
  },
  {
   "cell_type": "code",
   "execution_count": 29,
   "id": "9b1d087c",
   "metadata": {},
   "outputs": [
    {
     "name": "stdout",
     "output_type": "stream",
     "text": [
      "Shape of original dataset: (1976, 22)\n",
      "Shape of dataset with prices: (1976, 23)\n",
      "Added columns: {'btc_price'}\n",
      "\n",
      "Missing values in btc_price: 0\n",
      "Final data period: 2015-08-01 00:00:00 to 2020-12-27 00:00:00\n"
     ]
    }
   ],
   "source": [
    "#merge with original dataset\n",
    "df_merged_with_price = df_merged.join(df_btc_price_daily['btc_price'], how='inner')\n",
    "\n",
    "print(f\"Shape of original dataset: {df_merged.shape}\")\n",
    "print(f\"Shape of dataset with prices: {df_merged_with_price.shape}\")\n",
    "print(f\"Added columns: {set(df_merged_with_price.columns) - set(df_merged.columns)}\")\n",
    "\n",
    "# Check for missing values in the btc_price column\n",
    "print(f\"\\nMissing values in btc_price: {df_merged_with_price['btc_price'].isna().sum()}\")\n",
    "print(f\"Final data period: {df_merged_with_price.index.min()} to {df_merged_with_price.index.max()}\")"
   ]
  },
  {
   "cell_type": "markdown",
   "id": "fbb49acf",
   "metadata": {},
   "source": [
    "## Final Dataset Quality Control\n",
    "\n",
    "Let's perform comprehensive quality checks on our final dataset to ensure it's ready for machine learning models:"
   ]
  },
  {
   "cell_type": "code",
   "execution_count": 30,
   "id": "bae2ad74",
   "metadata": {},
   "outputs": [
    {
     "name": "stdout",
     "output_type": "stream",
     "text": [
      "🎯 FINAL DATASET QUALITY ASSESSMENT\n",
      "============================================================\n",
      "📊 BASIC INFORMATION:\n",
      "  Shape: (1976, 23)\n",
      "  Date range: 2015-08-01 to 2020-12-27\n",
      "  Total days: 1975\n",
      "\n",
      "🔍 MISSING VALUES ANALYSIS:\n",
      "  ✅ No missing values found!\n",
      "\n",
      "🔍 DATA TYPES ANALYSIS:\n",
      "  Numeric columns: 23\n",
      "  Non-numeric columns: 0\n",
      "  ✅ All columns are numeric - ready for ML models\n",
      "\n",
      "🎯 TARGET VARIABLE CHECK:\n",
      "  Target variable: btc_price\n",
      "  Missing values: 0\n",
      "  Price range: $213.67 - $27,061.00\n",
      "  Price volatility: 126.65x\n",
      "  ✅ Target variable is complete and ready for modeling\n",
      "\n",
      "🔍 TIME SERIES CONTINUITY:\n",
      "  Date gaps: 0\n",
      "  Duplicate dates: 0\n",
      "  ✅ Perfect time series continuity\n",
      "\n",
      "🏆 DATASET READINESS SUMMARY:\n",
      "  ✅ PERFECT: Dataset is fully ready for machine learning!\n",
      "  📊 Dataset Readiness Score: 100/100\n",
      "  🌟 Excellent - Ready for production ML models\n"
     ]
    }
   ],
   "source": [
    "# 🔍 COMPREHENSIVE DATASET QUALITY CONTROL\n",
    "print(\"🎯 FINAL DATASET QUALITY ASSESSMENT\")\n",
    "print(\"=\" * 60)\n",
    "\n",
    "print(f\"📊 BASIC INFORMATION:\")\n",
    "print(f\"  Shape: {df_merged_with_price.shape}\")\n",
    "print(f\"  Date range: {df_merged_with_price.index.min().date()} to {df_merged_with_price.index.max().date()}\")\n",
    "print(f\"  Total days: {(df_merged_with_price.index.max() - df_merged_with_price.index.min()).days}\")\n",
    "\n",
    "print(f\"\\n🔍 MISSING VALUES ANALYSIS:\")\n",
    "missing_values = df_merged_with_price.isnull().sum()\n",
    "missing_percentage = (missing_values / len(df_merged_with_price)) * 100\n",
    "\n",
    "has_missing = missing_values[missing_values > 0]\n",
    "if len(has_missing) == 0:\n",
    "    print(\"  ✅ No missing values found!\")\n",
    "else:\n",
    "    print(\"  Missing values found:\")\n",
    "    for col, count in has_missing.items():\n",
    "        pct = missing_percentage[col]\n",
    "        status = \"✅ Acceptable\" if pct < 1 else \"⚠️ Warning\" if pct < 5 else \"❌ Critical\"\n",
    "        print(f\"    {col:20}: {count:4d} ({pct:5.1f}%) {status}\")\n",
    "\n",
    "print(f\"\\n🔍 DATA TYPES ANALYSIS:\")\n",
    "numeric_cols = df_merged_with_price.select_dtypes(include=[np.number]).columns.tolist()\n",
    "non_numeric_cols = df_merged_with_price.select_dtypes(exclude=[np.number]).columns.tolist()\n",
    "\n",
    "print(f\"  Numeric columns: {len(numeric_cols)}\")\n",
    "print(f\"  Non-numeric columns: {len(non_numeric_cols)}\")\n",
    "if non_numeric_cols:\n",
    "    print(f\"  ❌ Non-numeric columns found: {non_numeric_cols}\")\n",
    "    print(f\"     These should be removed or encoded before ML model training\")\n",
    "else:\n",
    "    print(f\"  ✅ All columns are numeric - ready for ML models\")\n",
    "\n",
    "print(f\"\\n🎯 TARGET VARIABLE CHECK:\")\n",
    "if 'btc_price' in df_merged_with_price.columns:\n",
    "    target_missing = df_merged_with_price['btc_price'].isna().sum()\n",
    "    print(f\"  Target variable: btc_price\")\n",
    "    print(f\"  Missing values: {target_missing}\")\n",
    "    print(f\"  Price range: ${df_merged_with_price['btc_price'].min():,.2f} - ${df_merged_with_price['btc_price'].max():,.2f}\")\n",
    "    print(f\"  Price volatility: {df_merged_with_price['btc_price'].max()/df_merged_with_price['btc_price'].min():.2f}x\")\n",
    "    print(f\"  ✅ Target variable is complete and ready for modeling\")\n",
    "\n",
    "print(f\"\\n🔍 TIME SERIES CONTINUITY:\")\n",
    "date_diff = df_merged_with_price.index.to_series().diff()\n",
    "gaps = (date_diff > pd.Timedelta(days=1)).sum()\n",
    "duplicates = df_merged_with_price.index.duplicated().sum()\n",
    "\n",
    "print(f\"  Date gaps: {gaps}\")\n",
    "print(f\"  Duplicate dates: {duplicates}\")\n",
    "if gaps == 0 and duplicates == 0:\n",
    "    print(f\"  ✅ Perfect time series continuity\")\n",
    "else:\n",
    "    if gaps > 0:\n",
    "        print(f\"  ⚠️ {gaps} gaps found in time series\")\n",
    "    if duplicates > 0:\n",
    "        print(f\"  ❌ {duplicates} duplicate dates found\")\n",
    "\n",
    "print(f\"\\n🏆 DATASET READINESS SUMMARY:\")\n",
    "issues = []\n",
    "if len(has_missing) > 0:\n",
    "    issues.append(f\"{len(has_missing)} columns with missing values\")\n",
    "if len(non_numeric_cols) > 0:\n",
    "    issues.append(f\"{len(non_numeric_cols)} non-numeric columns\")\n",
    "if gaps > 0:\n",
    "    issues.append(f\"{gaps} time series gaps\")\n",
    "if duplicates > 0:\n",
    "    issues.append(f\"{duplicates} duplicate dates\")\n",
    "\n",
    "if len(issues) == 0:\n",
    "    print(f\"  ✅ PERFECT: Dataset is fully ready for machine learning!\")\n",
    "    readiness_score = 100\n",
    "else:\n",
    "    print(f\"  ⚠️ ISSUES FOUND: {', '.join(issues)}\")\n",
    "    # Calculate readiness score\n",
    "    readiness_score = max(50, 100 - len(issues) * 10 - (len(has_missing) * 5) - (len(non_numeric_cols) * 15))\n",
    "\n",
    "print(f\"  📊 Dataset Readiness Score: {readiness_score}/100\")\n",
    "\n",
    "if readiness_score >= 90:\n",
    "    print(f\"  🌟 Excellent - Ready for production ML models\")\n",
    "elif readiness_score >= 75:\n",
    "    print(f\"  ✅ Good - Minor cleanup may be beneficial\")\n",
    "elif readiness_score >= 50:\n",
    "    print(f\"  ⚠️ Fair - Some issues need attention\")\n",
    "else:\n",
    "    print(f\"  ❌ Poor - Significant cleanup required\")"
   ]
  },
  {
   "cell_type": "code",
   "execution_count": 31,
   "id": "a4c33084",
   "metadata": {},
   "outputs": [
    {
     "data": {
      "image/png": "[encoded data removed]",
      "text/plain": [
       "<Figure size 1500x600 with 1 Axes>"
      ]
     },
     "metadata": {},
     "output_type": "display_data"
    },
    {
     "name": "stdout",
     "output_type": "stream",
     "text": [
      "\n",
      "Statistics of btc_price:\n",
      "count     1976.000000\n",
      "mean      5617.379025\n",
      "std       4675.419183\n",
      "min        213.673000\n",
      "25%        766.109750\n",
      "50%       5678.500000\n",
      "75%       8925.500000\n",
      "max      27061.000000\n",
      "Name: btc_price, dtype: float64\n"
     ]
    }
   ],
   "source": [
    "# Visualization of btc_price\n",
    "plt.figure(figsize=(15, 6))\n",
    "plt.plot(df_merged_with_price.index, df_merged_with_price['btc_price'], linewidth=1.5)\n",
    "plt.title('Evolution of Bitcoin Price in Final Dataset', fontsize=16)\n",
    "plt.xlabel('Date', fontsize=12)\n",
    "plt.ylabel('Price (USD)', fontsize=12)\n",
    "plt.grid(True, alpha=0.3)\n",
    "plt.xticks(rotation=45)\n",
    "plt.tight_layout()\n",
    "plt.show()\n",
    "\n",
    "# Statistics of btc_price\n",
    "print(\"\\nStatistics of btc_price:\")\n",
    "print(df_merged_with_price['btc_price'].describe())"
   ]
  },
  {
   "cell_type": "code",
   "execution_count": 32,
   "id": "6e5b8bc6d8931c44",
   "metadata": {
    "ExecuteTime": {
     "end_time": "2025-09-16T14:23:13.838102Z",
     "start_time": "2025-09-16T14:23:13.773213Z"
    }
   },
   "outputs": [
    {
     "data": {
      "text/html": [
       "<div>\n",
       "<style scoped>\n",
       "    .dataframe tbody tr th:only-of-type {\n",
       "        vertical-align: middle;\n",
       "    }\n",
       "\n",
       "    .dataframe tbody tr th {\n",
       "        vertical-align: top;\n",
       "    }\n",
       "\n",
       "    .dataframe thead th {\n",
       "        text-align: right;\n",
       "    }\n",
       "</style>\n",
       "<table border=\"1\" class=\"dataframe\">\n",
       "  <thead>\n",
       "    <tr style=\"text-align: right;\">\n",
       "      <th></th>\n",
       "      <th>active_addresses</th>\n",
       "      <th>tweets</th>\n",
       "      <th>top_100_percent</th>\n",
       "      <th>difficulty</th>\n",
       "      <th>transactions</th>\n",
       "      <th>market_cap</th>\n",
       "      <th>median_transaction_value</th>\n",
       "      <th>send_usd</th>\n",
       "      <th>google_trends</th>\n",
       "      <th>block_size</th>\n",
       "      <th>...</th>\n",
       "      <th>sent_addresses</th>\n",
       "      <th>median_transaction_size</th>\n",
       "      <th>fee_reward</th>\n",
       "      <th>av_transaction_value</th>\n",
       "      <th>FEDFUNDS</th>\n",
       "      <th>gold_open</th>\n",
       "      <th>gold_high</th>\n",
       "      <th>gold_low</th>\n",
       "      <th>gold_close</th>\n",
       "      <th>gold_volume</th>\n",
       "    </tr>\n",
       "  </thead>\n",
       "  <tbody>\n",
       "    <tr>\n",
       "      <th>count</th>\n",
       "      <td>1.976000e+03</td>\n",
       "      <td>1976.000000</td>\n",
       "      <td>1976.00000</td>\n",
       "      <td>1.976000e+03</td>\n",
       "      <td>1976.000000</td>\n",
       "      <td>1.976000e+03</td>\n",
       "      <td>1976.000000</td>\n",
       "      <td>1.976000e+03</td>\n",
       "      <td>1976.000000</td>\n",
       "      <td>1976.000000</td>\n",
       "      <td>...</td>\n",
       "      <td>1976.000000</td>\n",
       "      <td>1976.000000</td>\n",
       "      <td>1976.000000</td>\n",
       "      <td>1976.000000</td>\n",
       "      <td>1976.000000</td>\n",
       "      <td>1976.000000</td>\n",
       "      <td>1976.000000</td>\n",
       "      <td>1976.000000</td>\n",
       "      <td>1976.000000</td>\n",
       "      <td>1976.000000</td>\n",
       "    </tr>\n",
       "    <tr>\n",
       "      <th>mean</th>\n",
       "      <td>5.843168e+05</td>\n",
       "      <td>32678.095648</td>\n",
       "      <td>17.27676</td>\n",
       "      <td>5.810740e+12</td>\n",
       "      <td>263987.419534</td>\n",
       "      <td>9.907483e+10</td>\n",
       "      <td>382.409709</td>\n",
       "      <td>9.073012e+09</td>\n",
       "      <td>42.967605</td>\n",
       "      <td>788538.372976</td>\n",
       "      <td>...</td>\n",
       "      <td>380094.962045</td>\n",
       "      <td>1.184452</td>\n",
       "      <td>5.105907</td>\n",
       "      <td>31832.918522</td>\n",
       "      <td>1.076447</td>\n",
       "      <td>1365.004271</td>\n",
       "      <td>1374.116144</td>\n",
       "      <td>1356.482257</td>\n",
       "      <td>1365.617885</td>\n",
       "      <td>69481.106781</td>\n",
       "    </tr>\n",
       "    <tr>\n",
       "      <th>std</th>\n",
       "      <td>1.674547e+05</td>\n",
       "      <td>19650.751882</td>\n",
       "      <td>2.06081</td>\n",
       "      <td>6.229650e+12</td>\n",
       "      <td>66087.140860</td>\n",
       "      <td>8.470372e+10</td>\n",
       "      <td>508.210073</td>\n",
       "      <td>1.186011e+10</td>\n",
       "      <td>48.291623</td>\n",
       "      <td>144500.426595</td>\n",
       "      <td>...</td>\n",
       "      <td>93975.149229</td>\n",
       "      <td>2.927201</td>\n",
       "      <td>5.853568</td>\n",
       "      <td>37712.731629</td>\n",
       "      <td>0.814899</td>\n",
       "      <td>220.329595</td>\n",
       "      <td>222.951078</td>\n",
       "      <td>217.473930</td>\n",
       "      <td>220.447086</td>\n",
       "      <td>57573.239182</td>\n",
       "    </tr>\n",
       "    <tr>\n",
       "      <th>min</th>\n",
       "      <td>1.133370e+05</td>\n",
       "      <td>0.000000</td>\n",
       "      <td>13.19900</td>\n",
       "      <td>5.227830e+10</td>\n",
       "      <td>89360.000000</td>\n",
       "      <td>3.075433e+09</td>\n",
       "      <td>0.091700</td>\n",
       "      <td>1.761133e+08</td>\n",
       "      <td>0.000000</td>\n",
       "      <td>350327.000000</td>\n",
       "      <td>...</td>\n",
       "      <td>153077.000000</td>\n",
       "      <td>0.009970</td>\n",
       "      <td>0.457000</td>\n",
       "      <td>1166.000000</td>\n",
       "      <td>0.050000</td>\n",
       "      <td>1050.920000</td>\n",
       "      <td>1063.460000</td>\n",
       "      <td>1046.230000</td>\n",
       "      <td>1051.550000</td>\n",
       "      <td>0.000000</td>\n",
       "    </tr>\n",
       "    <tr>\n",
       "      <th>25%</th>\n",
       "      <td>4.632572e+05</td>\n",
       "      <td>20592.000000</td>\n",
       "      <td>15.19175</td>\n",
       "      <td>2.867658e+11</td>\n",
       "      <td>215575.000000</td>\n",
       "      <td>1.226913e+10</td>\n",
       "      <td>151.822000</td>\n",
       "      <td>1.906453e+09</td>\n",
       "      <td>13.641000</td>\n",
       "      <td>692456.500000</td>\n",
       "      <td>...</td>\n",
       "      <td>310067.250000</td>\n",
       "      <td>0.101000</td>\n",
       "      <td>1.186000</td>\n",
       "      <td>7661.750000</td>\n",
       "      <td>0.370000</td>\n",
       "      <td>1231.432500</td>\n",
       "      <td>1237.832500</td>\n",
       "      <td>1224.360000</td>\n",
       "      <td>1232.295000</td>\n",
       "      <td>0.000000</td>\n",
       "    </tr>\n",
       "    <tr>\n",
       "      <th>50%</th>\n",
       "      <td>5.747140e+05</td>\n",
       "      <td>27169.500000</td>\n",
       "      <td>18.04800</td>\n",
       "      <td>3.817753e+12</td>\n",
       "      <td>268454.000000</td>\n",
       "      <td>9.743264e+10</td>\n",
       "      <td>269.900500</td>\n",
       "      <td>6.104110e+09</td>\n",
       "      <td>35.796500</td>\n",
       "      <td>812018.000000</td>\n",
       "      <td>...</td>\n",
       "      <td>377963.500000</td>\n",
       "      <td>0.257000</td>\n",
       "      <td>2.506000</td>\n",
       "      <td>22874.000000</td>\n",
       "      <td>1.040000</td>\n",
       "      <td>1289.440000</td>\n",
       "      <td>1295.760000</td>\n",
       "      <td>1282.595000</td>\n",
       "      <td>1290.460000</td>\n",
       "      <td>72045.000000</td>\n",
       "    </tr>\n",
       "    <tr>\n",
       "      <th>75%</th>\n",
       "      <td>6.851215e+05</td>\n",
       "      <td>37816.750000</td>\n",
       "      <td>19.03850</td>\n",
       "      <td>1.018349e+13</td>\n",
       "      <td>315114.250000</td>\n",
       "      <td>1.593126e+11</td>\n",
       "      <td>454.156500</td>\n",
       "      <td>1.019563e+10</td>\n",
       "      <td>49.289000</td>\n",
       "      <td>902989.000000</td>\n",
       "      <td>...</td>\n",
       "      <td>439272.750000</td>\n",
       "      <td>1.130250</td>\n",
       "      <td>7.157750</td>\n",
       "      <td>37737.500000</td>\n",
       "      <td>1.820000</td>\n",
       "      <td>1464.212500</td>\n",
       "      <td>1471.700000</td>\n",
       "      <td>1456.407500</td>\n",
       "      <td>1462.652500</td>\n",
       "      <td>107636.000000</td>\n",
       "    </tr>\n",
       "    <tr>\n",
       "      <th>max</th>\n",
       "      <td>1.133157e+06</td>\n",
       "      <td>155600.000000</td>\n",
       "      <td>21.17600</td>\n",
       "      <td>1.999734e+13</td>\n",
       "      <td>490459.000000</td>\n",
       "      <td>5.028765e+11</td>\n",
       "      <td>5417.000000</td>\n",
       "      <td>2.506494e+11</td>\n",
       "      <td>616.867000</td>\n",
       "      <td>998092.000000</td>\n",
       "      <td>...</td>\n",
       "      <td>730199.000000</td>\n",
       "      <td>34.095000</td>\n",
       "      <td>43.580000</td>\n",
       "      <td>812025.000000</td>\n",
       "      <td>2.420000</td>\n",
       "      <td>2066.550000</td>\n",
       "      <td>2074.870000</td>\n",
       "      <td>2034.440000</td>\n",
       "      <td>2063.250000</td>\n",
       "      <td>352486.000000</td>\n",
       "    </tr>\n",
       "  </tbody>\n",
       "</table>\n",
       "<p>8 rows × 22 columns</p>\n",
       "</div>"
      ],
      "text/plain": [
       "       active_addresses         tweets  top_100_percent    difficulty  \\\n",
       "count      1.976000e+03    1976.000000       1976.00000  1.976000e+03   \n",
       "mean       5.843168e+05   32678.095648         17.27676  5.810740e+12   \n",
       "std        1.674547e+05   19650.751882          2.06081  6.229650e+12   \n",
       "min        1.133370e+05       0.000000         13.19900  5.227830e+10   \n",
       "25%        4.632572e+05   20592.000000         15.19175  2.867658e+11   \n",
       "50%        5.747140e+05   27169.500000         18.04800  3.817753e+12   \n",
       "75%        6.851215e+05   37816.750000         19.03850  1.018349e+13   \n",
       "max        1.133157e+06  155600.000000         21.17600  1.999734e+13   \n",
       "\n",
       "        transactions    market_cap  median_transaction_value      send_usd  \\\n",
       "count    1976.000000  1.976000e+03               1976.000000  1.976000e+03   \n",
       "mean   263987.419534  9.907483e+10                382.409709  9.073012e+09   \n",
       "std     66087.140860  8.470372e+10                508.210073  1.186011e+10   \n",
       "min     89360.000000  3.075433e+09                  0.091700  1.761133e+08   \n",
       "25%    215575.000000  1.226913e+10                151.822000  1.906453e+09   \n",
       "50%    268454.000000  9.743264e+10                269.900500  6.104110e+09   \n",
       "75%    315114.250000  1.593126e+11                454.156500  1.019563e+10   \n",
       "max    490459.000000  5.028765e+11               5417.000000  2.506494e+11   \n",
       "\n",
       "       google_trends     block_size  ...  sent_addresses  \\\n",
       "count    1976.000000    1976.000000  ...     1976.000000   \n",
       "mean       42.967605  788538.372976  ...   380094.962045   \n",
       "std        48.291623  144500.426595  ...    93975.149229   \n",
       "min         0.000000  350327.000000  ...   153077.000000   \n",
       "25%        13.641000  692456.500000  ...   310067.250000   \n",
       "50%        35.796500  812018.000000  ...   377963.500000   \n",
       "75%        49.289000  902989.000000  ...   439272.750000   \n",
       "max       616.867000  998092.000000  ...   730199.000000   \n",
       "\n",
       "       median_transaction_size   fee_reward  av_transaction_value  \\\n",
       "count              1976.000000  1976.000000           1976.000000   \n",
       "mean                  1.184452     5.105907          31832.918522   \n",
       "std                   2.927201     5.853568          37712.731629   \n",
       "min                   0.009970     0.457000           1166.000000   \n",
       "25%                   0.101000     1.186000           7661.750000   \n",
       "50%                   0.257000     2.506000          22874.000000   \n",
       "75%                   1.130250     7.157750          37737.500000   \n",
       "max                  34.095000    43.580000         812025.000000   \n",
       "\n",
       "          FEDFUNDS    gold_open    gold_high     gold_low   gold_close  \\\n",
       "count  1976.000000  1976.000000  1976.000000  1976.000000  1976.000000   \n",
       "mean      1.076447  1365.004271  1374.116144  1356.482257  1365.617885   \n",
       "std       0.814899   220.329595   222.951078   217.473930   220.447086   \n",
       "min       0.050000  1050.920000  1063.460000  1046.230000  1051.550000   \n",
       "25%       0.370000  1231.432500  1237.832500  1224.360000  1232.295000   \n",
       "50%       1.040000  1289.440000  1295.760000  1282.595000  1290.460000   \n",
       "75%       1.820000  1464.212500  1471.700000  1456.407500  1462.652500   \n",
       "max       2.420000  2066.550000  2074.870000  2034.440000  2063.250000   \n",
       "\n",
       "         gold_volume  \n",
       "count    1976.000000  \n",
       "mean    69481.106781  \n",
       "std     57573.239182  \n",
       "min         0.000000  \n",
       "25%         0.000000  \n",
       "50%     72045.000000  \n",
       "75%    107636.000000  \n",
       "max    352486.000000  \n",
       "\n",
       "[8 rows x 22 columns]"
      ]
     },
     "execution_count": 32,
     "metadata": {},
     "output_type": "execute_result"
    }
   ],
   "source": [
    "df_merged.describe(include=\"all\")"
   ]
  },
  {
   "cell_type": "code",
   "execution_count": 33,
   "id": "366bcae6",
   "metadata": {},
   "outputs": [
    {
     "name": "stdout",
     "output_type": "stream",
     "text": [
      "💾 SAVING FINAL PROCESSED DATASET...\n",
      "✅ Dataset saved successfully to: ../data/dataset_merged_with_price.csv\n",
      "📊 Final dataset statistics:\n",
      "  Shape: (1976, 23)\n",
      "  Columns: 23\n",
      "  Date range: 2015-08-01 to 2020-12-27\n",
      "  Total days: 1976\n",
      "\n",
      "🎯 PROCESSING COMPLETE!\n",
      "📁 Final dataset available:\n",
      "  - dataset_merged.csv (without Bitcoin prices)\n",
      "  - dataset_merged_with_price.csv (complete dataset for all analyses)\n"
     ]
    }
   ],
   "source": [
    "# 💾 SAVE FINAL PROCESSED DATASET\n",
    "print(\"💾 SAVING FINAL PROCESSED DATASET...\")\n",
    "\n",
    "# Save the complete dataset with Bitcoin prices\n",
    "output_file = \"../data/dataset_merged_with_price.csv\"\n",
    "df_merged_with_price.to_csv(output_file, index=True, encoding=\"utf-8\", float_format='%.6f')\n",
    "\n",
    "print(f\"✅ Dataset saved successfully to: {output_file}\")\n",
    "print(f\"📊 Final dataset statistics:\")\n",
    "print(f\"  Shape: {df_merged_with_price.shape}\")\n",
    "print(f\"  Columns: {len(df_merged_with_price.columns)}\")\n",
    "print(f\"  Date range: {df_merged_with_price.index.min().date()} to {df_merged_with_price.index.max().date()}\")\n",
    "print(f\"  Total days: {len(df_merged_with_price)}\")\n",
    "\n",
    "print(f\"\\n🎯 PROCESSING COMPLETE!\")\n",
    "print(f\"📁 Final dataset available:\")\n",
    "print(f\"  - dataset_merged.csv (without Bitcoin prices)\")\n",
    "print(f\"  - dataset_merged_with_price.csv (complete dataset for all analyses)\")"
   ]
  }
 ],
 "metadata": {
  "kernelspec": {
   "display_name": ".venv",
   "language": "python",
   "name": "python3"
  },
  "language_info": {
   "codemirror_mode": {
    "name": "ipython",
    "version": 3
   },
   "file_extension": ".py",
   "mimetype": "text/x-python",
   "name": "python",
   "nbconvert_exporter": "python",
   "pygments_lexer": "ipython3",
   "version": "3.13.3"
  }
 },
 "nbformat": 4,
 "nbformat_minor": 5
}
