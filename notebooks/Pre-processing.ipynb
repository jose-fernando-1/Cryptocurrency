{
 "cells": [
  {
   "metadata": {
    "ExecuteTime": {
     "end_time": "2025-09-16T14:23:10.212959Z",
     "start_time": "2025-09-16T14:23:10.208352Z"
    }
   },
   "cell_type": "code",
   "source": [
    "import pandas as pd\n",
    "import matplotlib.pyplot as plt\n",
    "import numpy as np"
   ],
   "id": "790a6f7559f958ce",
   "outputs": [],
   "execution_count": 255
  },
  {
   "metadata": {},
   "cell_type": "markdown",
   "source": "# Pre-processing",
   "id": "9f12d99a58584229"
  },
  {
   "metadata": {
    "ExecuteTime": {
     "end_time": "2025-09-16T14:23:11.218051Z",
     "start_time": "2025-09-16T14:23:10.221524Z"
    }
   },
   "cell_type": "code",
   "source": [
    "df_bitcoin = pd.read_csv(\"../data/bitcoin.csv\", na_values=[\"null\", \"\"], keep_default_na=True, index_col=0, parse_dates=[\"date\"])\n",
    "df_rates = pd.read_csv(\"../data/FEDFUNDS.csv\", parse_dates=[\"observation_date\"])\n",
    "df_gold = pd.read_csv(\"../data/gold_5min.csv\", sep=\";\", parse_dates=[\"Date\"])"
   ],
   "id": "ac931cb1df844c3c",
   "outputs": [],
   "execution_count": 256
  },
  {
   "metadata": {
    "ExecuteTime": {
     "end_time": "2025-09-16T14:23:11.279658Z",
     "start_time": "2025-09-16T14:23:11.275136Z"
    }
   },
   "cell_type": "code",
   "source": "df_bitcoin.columns.values",
   "id": "7d46696a09f8cfa8",
   "outputs": [
    {
     "data": {
      "text/plain": [
       "array(['date', 'active_addresses', 'tweets', 'top_100_percent',\n",
       "       'difficulty', 'transactions', 'av_transaction_size', 'market_cap',\n",
       "       'confirmation_time', 'median_transaction_value', 'send_usd',\n",
       "       'google_trends', 'block_size', 'mining_profitability', 'hashrate',\n",
       "       'sent_addresses', 'median_transaction_size', 'fee_reward',\n",
       "       'av_transaction_value', 'full_name', 'coin'], dtype=object)"
      ]
     },
     "execution_count": 257,
     "metadata": {},
     "output_type": "execute_result"
    }
   ],
   "execution_count": 257
  },
  {
   "metadata": {
    "ExecuteTime": {
     "end_time": "2025-09-16T14:23:11.338043Z",
     "start_time": "2025-09-16T14:23:11.332662Z"
    }
   },
   "cell_type": "code",
   "source": "df_rates.columns.values",
   "id": "f1adce96a7311d2f",
   "outputs": [
    {
     "data": {
      "text/plain": [
       "array(['observation_date', 'FEDFUNDS'], dtype=object)"
      ]
     },
     "execution_count": 258,
     "metadata": {},
     "output_type": "execute_result"
    }
   ],
   "execution_count": 258
  },
  {
   "metadata": {
    "ExecuteTime": {
     "end_time": "2025-09-16T14:23:11.394997Z",
     "start_time": "2025-09-16T14:23:11.389440Z"
    }
   },
   "cell_type": "code",
   "source": "df_gold.columns.values",
   "id": "66188edfeffe15c1",
   "outputs": [
    {
     "data": {
      "text/plain": [
       "array(['Date', 'Open', 'High', 'Low', 'Close', 'Volume'], dtype=object)"
      ]
     },
     "execution_count": 259,
     "metadata": {},
     "output_type": "execute_result"
    }
   ],
   "execution_count": 259
  },
  {
   "metadata": {
    "ExecuteTime": {
     "end_time": "2025-09-16T14:23:11.458677Z",
     "start_time": "2025-09-16T14:23:11.452468Z"
    }
   },
   "cell_type": "code",
   "source": "df_gold.dtypes",
   "id": "e3af7132e413388d",
   "outputs": [
    {
     "data": {
      "text/plain": [
       "Date      datetime64[ns]\n",
       "Open             float64\n",
       "High             float64\n",
       "Low              float64\n",
       "Close            float64\n",
       "Volume             int64\n",
       "dtype: object"
      ]
     },
     "execution_count": 260,
     "metadata": {},
     "output_type": "execute_result"
    }
   ],
   "execution_count": 260
  },
  {
   "metadata": {
    "ExecuteTime": {
     "end_time": "2025-09-16T14:23:11.582829Z",
     "start_time": "2025-09-16T14:23:11.573855Z"
    }
   },
   "cell_type": "code",
   "source": "df_bitcoin.dtypes",
   "id": "a923d2e2f9273299",
   "outputs": [
    {
     "data": {
      "text/plain": [
       "date                        datetime64[ns]\n",
       "active_addresses                   float64\n",
       "tweets                             float64\n",
       "top_100_percent                    float64\n",
       "difficulty                         float64\n",
       "transactions                       float64\n",
       "av_transaction_size                float64\n",
       "market_cap                         float64\n",
       "confirmation_time                  float64\n",
       "median_transaction_value           float64\n",
       "send_usd                           float64\n",
       "google_trends                      float64\n",
       "block_size                         float64\n",
       "mining_profitability               float64\n",
       "hashrate                           float64\n",
       "sent_addresses                     float64\n",
       "median_transaction_size            float64\n",
       "fee_reward                         float64\n",
       "av_transaction_value               float64\n",
       "full_name                           object\n",
       "coin                                object\n",
       "dtype: object"
      ]
     },
     "execution_count": 261,
     "metadata": {},
     "output_type": "execute_result"
    }
   ],
   "execution_count": 261
  },
  {
   "metadata": {
    "ExecuteTime": {
     "end_time": "2025-09-16T14:23:11.851729Z",
     "start_time": "2025-09-16T14:23:11.845195Z"
    }
   },
   "cell_type": "code",
   "source": "df_rates.dtypes",
   "id": "5701148384a0dd74",
   "outputs": [
    {
     "data": {
      "text/plain": [
       "observation_date    datetime64[ns]\n",
       "FEDFUNDS                   float64\n",
       "dtype: object"
      ]
     },
     "execution_count": 262,
     "metadata": {},
     "output_type": "execute_result"
    }
   ],
   "execution_count": 262
  },
  {
   "metadata": {
    "ExecuteTime": {
     "end_time": "2025-09-16T14:23:11.984196Z",
     "start_time": "2025-09-16T14:23:11.979Z"
    }
   },
   "cell_type": "code",
   "source": "df_bitcoin.shape",
   "id": "da553ccae4252d80",
   "outputs": [
    {
     "data": {
      "text/plain": [
       "(4378, 21)"
      ]
     },
     "execution_count": 263,
     "metadata": {},
     "output_type": "execute_result"
    }
   ],
   "execution_count": 263
  },
  {
   "metadata": {
    "ExecuteTime": {
     "end_time": "2025-09-16T14:23:12.099353Z",
     "start_time": "2025-09-16T14:23:12.094086Z"
    }
   },
   "cell_type": "code",
   "source": "df_rates.shape",
   "id": "e5c636789ba9e953",
   "outputs": [
    {
     "data": {
      "text/plain": [
       "(121, 2)"
      ]
     },
     "execution_count": 264,
     "metadata": {},
     "output_type": "execute_result"
    }
   ],
   "execution_count": 264
  },
  {
   "metadata": {
    "ExecuteTime": {
     "end_time": "2025-09-16T14:23:12.166089Z",
     "start_time": "2025-09-16T14:23:12.156668Z"
    }
   },
   "cell_type": "code",
   "source": "df_bitcoin.isna().sum()",
   "id": "45e09b5173dc061",
   "outputs": [
    {
     "data": {
      "text/plain": [
       "date                           0\n",
       "active_addresses              27\n",
       "tweets                      1978\n",
       "top_100_percent               12\n",
       "difficulty                     6\n",
       "transactions                 261\n",
       "av_transaction_size         4378\n",
       "market_cap                   561\n",
       "confirmation_time              8\n",
       "median_transaction_value     561\n",
       "send_usd                     561\n",
       "google_trends                570\n",
       "block_size                     6\n",
       "mining_profitability         561\n",
       "hashrate                       7\n",
       "sent_addresses                 8\n",
       "median_transaction_size     1205\n",
       "fee_reward                   641\n",
       "av_transaction_value         561\n",
       "full_name                      0\n",
       "coin                           0\n",
       "dtype: int64"
      ]
     },
     "execution_count": 265,
     "metadata": {},
     "output_type": "execute_result"
    }
   ],
   "execution_count": 265
  },
  {
   "metadata": {
    "ExecuteTime": {
     "end_time": "2025-09-16T14:23:12.296163Z",
     "start_time": "2025-09-16T14:23:12.290639Z"
    }
   },
   "cell_type": "code",
   "source": "df_bitcoin.columns.values",
   "id": "dd38cdba76a790f2",
   "outputs": [
    {
     "data": {
      "text/plain": [
       "array(['date', 'active_addresses', 'tweets', 'top_100_percent',\n",
       "       'difficulty', 'transactions', 'av_transaction_size', 'market_cap',\n",
       "       'confirmation_time', 'median_transaction_value', 'send_usd',\n",
       "       'google_trends', 'block_size', 'mining_profitability', 'hashrate',\n",
       "       'sent_addresses', 'median_transaction_size', 'fee_reward',\n",
       "       'av_transaction_value', 'full_name', 'coin'], dtype=object)"
      ]
     },
     "execution_count": 266,
     "metadata": {},
     "output_type": "execute_result"
    }
   ],
   "execution_count": 266
  },
  {
   "metadata": {
    "ExecuteTime": {
     "end_time": "2025-09-16T14:23:12.430454Z",
     "start_time": "2025-09-16T14:23:12.421731Z"
    }
   },
   "cell_type": "code",
   "source": "df_bitcoin.count()",
   "id": "fcc34888b1bfc6d2",
   "outputs": [
    {
     "data": {
      "text/plain": [
       "date                        4378\n",
       "active_addresses            4351\n",
       "tweets                      2400\n",
       "top_100_percent             4366\n",
       "difficulty                  4372\n",
       "transactions                4117\n",
       "av_transaction_size            0\n",
       "market_cap                  3817\n",
       "confirmation_time           4370\n",
       "median_transaction_value    3817\n",
       "send_usd                    3817\n",
       "google_trends               3808\n",
       "block_size                  4372\n",
       "mining_profitability        3817\n",
       "hashrate                    4371\n",
       "sent_addresses              4370\n",
       "median_transaction_size     3173\n",
       "fee_reward                  3737\n",
       "av_transaction_value        3817\n",
       "full_name                   4378\n",
       "coin                        4378\n",
       "dtype: int64"
      ]
     },
     "execution_count": 267,
     "metadata": {},
     "output_type": "execute_result"
    }
   ],
   "execution_count": 267
  },
  {
   "metadata": {
    "ExecuteTime": {
     "end_time": "2025-09-16T14:23:12.538996Z",
     "start_time": "2025-09-16T14:23:12.534379Z"
    }
   },
   "cell_type": "code",
   "source": "df_bitcoin.shape",
   "id": "877dbac61b790228",
   "outputs": [
    {
     "data": {
      "text/plain": [
       "(4378, 21)"
      ]
     },
     "execution_count": 268,
     "metadata": {},
     "output_type": "execute_result"
    }
   ],
   "execution_count": 268
  },
  {
   "metadata": {
    "ExecuteTime": {
     "end_time": "2025-09-16T14:23:12.678773Z",
     "start_time": "2025-09-16T14:23:12.661804Z"
    }
   },
   "cell_type": "code",
   "source": [
    "df_bitcoin = df_bitcoin.sort_values('date').reset_index(drop=True)\n",
    "df_bitcoin['tweets'] = df_bitcoin['tweets'].fillna(0)\n",
    "df_bitcoin['google_trends'] = df_bitcoin['google_trends'].fillna(0)\n",
    "start = max(df_bitcoin['date'].min(), df_rates['observation_date'].min(), df_gold['Date'].min())\n",
    "end   = min(df_bitcoin['date'].max(), df_rates['observation_date'].max(), df_gold['Date'].max())\n",
    "daily_range = pd.date_range(start, end, freq='D')\n",
    "\n",
    "df_rates = df_rates.sort_values('observation_date').reset_index(drop=True)\n",
    "df_rates = df_rates.rename(columns={'observation_date': 'date'})"
   ],
   "id": "6fa6022e98ceecd4",
   "outputs": [],
   "execution_count": 269
  },
  {
   "metadata": {
    "ExecuteTime": {
     "end_time": "2025-09-16T14:23:12.733305Z",
     "start_time": "2025-09-16T14:23:12.720023Z"
    }
   },
   "cell_type": "code",
   "source": [
    "target_col = 'send_usd'\n",
    "df_btc_daily = (\n",
    "    df_bitcoin.set_index('date')\n",
    "    .sort_index()\n",
    "    .reindex(daily_range)\n",
    "    .rename_axis('date')\n",
    ")\n",
    "numeric_cols = df_btc_daily.select_dtypes(include=[np.number]).columns.tolist()\n",
    "feature_cols_to_ffill = [c for c in numeric_cols if c != target_col]\n",
    "df_btc_daily[feature_cols_to_ffill] = df_btc_daily[feature_cols_to_ffill].ffill()"
   ],
   "id": "14803e97a591b16f",
   "outputs": [],
   "execution_count": 270
  },
  {
   "metadata": {
    "ExecuteTime": {
     "end_time": "2025-09-16T14:23:12.776219Z",
     "start_time": "2025-09-16T14:23:12.770327Z"
    }
   },
   "cell_type": "code",
   "source": [
    "df_rates_daily = df_rates.set_index('date').sort_index()\n",
    "df_rates_daily = df_rates_daily.reindex(daily_range).rename_axis('date')\n",
    "df_rates_daily['FEDFUNDS'] = df_rates_daily['FEDFUNDS'].ffill()"
   ],
   "id": "1437befaa77f7fd6",
   "outputs": [],
   "execution_count": 271
  },
  {
   "metadata": {
    "ExecuteTime": {
     "end_time": "2025-09-16T14:23:12.990110Z",
     "start_time": "2025-09-16T14:23:12.822696Z"
    }
   },
   "cell_type": "code",
   "source": [
    "df_gold = df_gold.dropna(subset=['Date']).sort_values('Date')\n",
    "\n",
    "df_gold_daily = (\n",
    "    df_gold\n",
    "    .set_index('Date')\n",
    "    .resample('D')\n",
    "    .agg({'Open': 'first', 'High': 'max', 'Low': 'min', 'Close': 'last', 'Volume': 'sum'})\n",
    ")\n",
    "\n",
    "df_gold_daily = df_gold_daily.reindex(daily_range).rename_axis('date')\n",
    "price_cols = ['Open', 'High', 'Low', 'Close']\n",
    "df_gold_daily[price_cols] = df_gold_daily[price_cols].ffill()\n",
    "df_gold_daily['Volume'] = df_gold_daily['Volume'].fillna(0)\n",
    "\n",
    "df_gold_daily = df_gold_daily.rename(columns={\n",
    "    'Open': 'gold_open',\n",
    "    'High': 'gold_high',\n",
    "    'Low': 'gold_low',\n",
    "    'Close': 'gold_close',\n",
    "    'Volume': 'gold_volume'\n",
    "})\n"
   ],
   "id": "d25c92f7050a697e",
   "outputs": [],
   "execution_count": 272
  },
  {
   "metadata": {
    "ExecuteTime": {
     "end_time": "2025-09-16T14:23:13.003342Z",
     "start_time": "2025-09-16T14:23:12.998893Z"
    }
   },
   "cell_type": "code",
   "source": "df_merged = df_btc_daily.join([df_rates_daily['FEDFUNDS'], df_gold_daily])",
   "id": "3185831568f4f2e1",
   "outputs": [],
   "execution_count": 273
  },
  {
   "metadata": {
    "ExecuteTime": {
     "end_time": "2025-09-16T14:23:13.095644Z",
     "start_time": "2025-09-16T14:23:13.087886Z"
    }
   },
   "cell_type": "code",
   "source": [
    "df_merged[target_col] = pd.to_numeric(df_merged[target_col], errors='coerce')\n",
    "df_merged = df_merged[(df_merged[target_col].notna()) & (df_merged[target_col] > 0)]"
   ],
   "id": "802c144c6e4725a4",
   "outputs": [],
   "execution_count": 274
  },
  {
   "metadata": {
    "ExecuteTime": {
     "end_time": "2025-09-16T14:23:13.151026Z",
     "start_time": "2025-09-16T14:23:13.145455Z"
    }
   },
   "cell_type": "code",
   "source": "df_merged.shape",
   "id": "64943e2e30592245",
   "outputs": [
    {
     "data": {
      "text/plain": [
       "(1976, 26)"
      ]
     },
     "execution_count": 275,
     "metadata": {},
     "output_type": "execute_result"
    }
   ],
   "execution_count": 275
  },
  {
   "metadata": {
    "ExecuteTime": {
     "end_time": "2025-09-16T14:23:13.206694Z",
     "start_time": "2025-09-16T14:23:13.202014Z"
    }
   },
   "cell_type": "code",
   "source": "df_merged.columns.values",
   "id": "fc9d88cd4555b407",
   "outputs": [
    {
     "data": {
      "text/plain": [
       "array(['active_addresses', 'tweets', 'top_100_percent', 'difficulty',\n",
       "       'transactions', 'av_transaction_size', 'market_cap',\n",
       "       'confirmation_time', 'median_transaction_value', 'send_usd',\n",
       "       'google_trends', 'block_size', 'mining_profitability', 'hashrate',\n",
       "       'sent_addresses', 'median_transaction_size', 'fee_reward',\n",
       "       'av_transaction_value', 'full_name', 'coin', 'FEDFUNDS',\n",
       "       'gold_open', 'gold_high', 'gold_low', 'gold_close', 'gold_volume'],\n",
       "      dtype=object)"
      ]
     },
     "execution_count": 276,
     "metadata": {},
     "output_type": "execute_result"
    }
   ],
   "execution_count": 276
  },
  {
   "metadata": {
    "ExecuteTime": {
     "end_time": "2025-09-16T14:23:13.274277Z",
     "start_time": "2025-09-16T14:23:13.265947Z"
    }
   },
   "cell_type": "code",
   "source": "df_merged.isna().sum()",
   "id": "fe5881367bb03655",
   "outputs": [
    {
     "data": {
      "text/plain": [
       "active_addresses               0\n",
       "tweets                         0\n",
       "top_100_percent                0\n",
       "difficulty                     0\n",
       "transactions                   0\n",
       "av_transaction_size         1976\n",
       "market_cap                     0\n",
       "confirmation_time              0\n",
       "median_transaction_value       0\n",
       "send_usd                       0\n",
       "google_trends                  0\n",
       "block_size                     0\n",
       "mining_profitability           0\n",
       "hashrate                       0\n",
       "sent_addresses                 0\n",
       "median_transaction_size        0\n",
       "fee_reward                     0\n",
       "av_transaction_value           0\n",
       "full_name                      0\n",
       "coin                           0\n",
       "FEDFUNDS                       0\n",
       "gold_open                      2\n",
       "gold_high                      2\n",
       "gold_low                       2\n",
       "gold_close                     2\n",
       "gold_volume                    0\n",
       "dtype: int64"
      ]
     },
     "execution_count": 277,
     "metadata": {},
     "output_type": "execute_result"
    }
   ],
   "execution_count": 277
  },
  {
   "metadata": {
    "ExecuteTime": {
     "end_time": "2025-09-16T14:23:13.578768Z",
     "start_time": "2025-09-16T14:23:13.374581Z"
    }
   },
   "cell_type": "code",
   "source": [
    "# python\n",
    "def _col_or(df, candidates):\n",
    "    for c in candidates:\n",
    "        if c in df.columns:\n",
    "            return c\n",
    "    raise KeyError(f\"Nenhuma das colunas {candidates} foi encontrada em {list(df.columns)}\")\n",
    "\n",
    "btc_date_col = _col_or(df_bitcoin, ['date'])\n",
    "rates_date_col = _col_or(df_rates, ['date', 'observation_date'])\n",
    "gold_date_col = _col_or(df_gold, ['Date', 'date'])\n",
    "\n",
    "ranges = []\n",
    "\n",
    "def add_range(name, idx, n_rows=None):\n",
    "    start, end = pd.to_datetime(idx.min()), pd.to_datetime(idx.max())\n",
    "    n_days = (end.normalize() - start.normalize()).days + 1\n",
    "    ranges.append((name, start, end, n_days, n_rows if n_rows is not None else len(idx)))\n",
    "\n",
    "add_range('bitcoin_raw', df_bitcoin[btc_date_col], len(df_bitcoin))\n",
    "add_range('rates_raw', df_rates[rates_date_col], len(df_rates))\n",
    "add_range('gold_raw', df_gold[gold_date_col], len(df_gold))\n",
    "\n",
    "add_range('btc_daily_idx', df_btc_daily.index)\n",
    "add_range('rates_daily_idx', df_rates_daily.index)\n",
    "add_range('gold_daily_idx', df_gold_daily.index)\n",
    "add_range('merged_idx', df_merged.index, len(df_merged))\n",
    "\n",
    "ranges_df = pd.DataFrame(ranges, columns=['dataset', 'start', 'end', 'days', 'rows']).sort_values('start')\n",
    "print(\"Ranges por dataset:\")\n",
    "print(ranges_df.to_string(index=False))\n",
    "\n",
    "first_rate = pd.to_datetime(df_rates[rates_date_col].min())\n",
    "last_rate  = pd.to_datetime(df_rates[rates_date_col].max())\n",
    "print(\"\\nCobertura FEDFUNDS (dados mensais originais):\")\n",
    "print(f\"  FEDFUNDS começa em: {first_rate.date()}  | termina em: {last_rate.date()}\")\n",
    "\n",
    "n_total = len(df_merged)\n",
    "n_nan = df_merged['FEDFUNDS'].isna().sum()\n",
    "print(f\"\\nNo merge: {n_nan} NaNs em FEDFUNDS de {n_total} linhas\")\n",
    "\n",
    "mask_before = (df_merged.index < first_rate) & df_merged['FEDFUNDS'].isna()\n",
    "mask_after  = (df_merged.index > last_rate) & df_merged['FEDFUNDS'].isna()\n",
    "print(f\"  NaNs antes do primeiro FEDFUNDS: {mask_before.sum()}\")\n",
    "print(f\"  NaNs após o último FEDFUNDS:    {mask_after.sum()}\")\n",
    "\n",
    "fig, ax = plt.subplots(figsize=(10, 0.5 + 0.5*len(ranges_df)))\n",
    "ypos = np.arange(len(ranges_df))\n",
    "ax.set_yticks(ypos)\n",
    "ax.set_yticklabels(ranges_df['dataset'])\n",
    "\n",
    "for i, row in enumerate(ranges_df.itertuples(index=False)):\n",
    "    ax.hlines(y=i, xmin=row.start, xmax=row.end, color='tab:blue', linewidth=6, alpha=0.7)\n",
    "    ax.plot([row.start, row.end], [i, i], 'o', color='tab:blue', alpha=0.9, markersize=4)\n",
    "\n",
    "ax.axvspan(first_rate, last_rate, color='tab:orange', alpha=0.15, label='Cobertura FEDFUNDS (raw)')\n",
    "ax.grid(axis='x', linestyle='--', alpha=0.3)\n",
    "ax.set_title('Ranges dos datasets (início e fim)')\n",
    "ax.legend(loc='upper left', frameon=False)\n",
    "fig.autofmt_xdate()\n",
    "plt.tight_layout()\n",
    "plt.show()"
   ],
   "id": "cfeda885b43c240a",
   "outputs": [
    {
     "name": "stdout",
     "output_type": "stream",
     "text": [
      "Ranges por dataset:\n",
      "        dataset               start                 end  days    rows\n",
      "       gold_raw 2004-06-11 07:15:00 2025-07-15 19:45:00  7705 1413022\n",
      "    bitcoin_raw 2009-01-03 00:00:00 2020-12-28 00:00:00  4378    4378\n",
      "      rates_raw 2015-08-01 00:00:00 2025-08-01 00:00:00  3654     121\n",
      "  btc_daily_idx 2015-08-01 00:00:00 2020-12-28 00:00:00  1977    1977\n",
      "rates_daily_idx 2015-08-01 00:00:00 2020-12-28 00:00:00  1977    1977\n",
      " gold_daily_idx 2015-08-01 00:00:00 2020-12-28 00:00:00  1977    1977\n",
      "     merged_idx 2015-08-01 00:00:00 2020-12-27 00:00:00  1976    1976\n",
      "\n",
      "Cobertura FEDFUNDS (dados mensais originais):\n",
      "  FEDFUNDS começa em: 2015-08-01  | termina em: 2025-08-01\n",
      "\n",
      "No merge: 0 NaNs em FEDFUNDS de 1976 linhas\n",
      "  NaNs antes do primeiro FEDFUNDS: 0\n",
      "  NaNs após o último FEDFUNDS:    0\n"
     ]
    },
    {
     "data": {
      "text/plain": [
       "<Figure size 1000x400 with 1 Axes>"
      ],
      "image/png": "[encoded data removed]"
     },
     "metadata": {},
     "output_type": "display_data",
     "jetTransient": {
      "display_id": null
     }
    }
   ],
   "execution_count": 278
  },
  {
   "metadata": {
    "ExecuteTime": {
     "end_time": "2025-09-16T14:23:13.741783Z",
     "start_time": "2025-09-16T14:23:13.678379Z"
    }
   },
   "cell_type": "code",
   "source": "df_merged.to_csv(\"../data/dataset_merged.csv\", index=True, encoding=\"utf-8\", float_format='%.2f')",
   "id": "721312ab04da2e9b",
   "outputs": [],
   "execution_count": 279
  },
  {
   "metadata": {
    "ExecuteTime": {
     "end_time": "2025-09-16T14:23:13.838102Z",
     "start_time": "2025-09-16T14:23:13.773213Z"
    }
   },
   "cell_type": "code",
   "source": "df_merged.describe(include=\"all\")",
   "id": "6e5b8bc6d8931c44",
   "outputs": [
    {
     "data": {
      "text/plain": [
       "        active_addresses         tweets  top_100_percent    difficulty  \\\n",
       "count       1.976000e+03    1976.000000       1976.00000  1.976000e+03   \n",
       "unique               NaN            NaN              NaN           NaN   \n",
       "top                  NaN            NaN              NaN           NaN   \n",
       "freq                 NaN            NaN              NaN           NaN   \n",
       "mean        5.843168e+05   32678.095648         17.27676  5.810740e+12   \n",
       "std         1.674547e+05   19650.751882          2.06081  6.229650e+12   \n",
       "min         1.133370e+05       0.000000         13.19900  5.227830e+10   \n",
       "25%         4.632572e+05   20592.000000         15.19175  2.867658e+11   \n",
       "50%         5.747140e+05   27169.500000         18.04800  3.817753e+12   \n",
       "75%         6.851215e+05   37816.750000         19.03850  1.018349e+13   \n",
       "max         1.133157e+06  155600.000000         21.17600  1.999734e+13   \n",
       "\n",
       "         transactions  av_transaction_size    market_cap  confirmation_time  \\\n",
       "count     1976.000000                  0.0  1.976000e+03        1976.000000   \n",
       "unique            NaN                  NaN           NaN                NaN   \n",
       "top               NaN                  NaN           NaN                NaN   \n",
       "freq              NaN                  NaN           NaN                NaN   \n",
       "mean    263987.419534                  NaN  9.907483e+10           9.747864   \n",
       "std      66087.140860                  NaN  8.470372e+10           1.115982   \n",
       "min      89360.000000                  NaN  3.075433e+09           6.667000   \n",
       "25%     215575.000000                  NaN  1.226913e+10           9.000000   \n",
       "50%     268454.000000                  NaN  9.743264e+10           9.664000   \n",
       "75%     315114.250000                  NaN  1.593126e+11          10.360000   \n",
       "max     490459.000000                  NaN  5.028765e+11          18.000000   \n",
       "\n",
       "        median_transaction_value      send_usd  ...   fee_reward  \\\n",
       "count                1976.000000  1.976000e+03  ...  1976.000000   \n",
       "unique                       NaN           NaN  ...          NaN   \n",
       "top                          NaN           NaN  ...          NaN   \n",
       "freq                         NaN           NaN  ...          NaN   \n",
       "mean                  382.409709  9.073012e+09  ...     5.105907   \n",
       "std                   508.210073  1.186011e+10  ...     5.853568   \n",
       "min                     0.091700  1.761133e+08  ...     0.457000   \n",
       "25%                   151.822000  1.906453e+09  ...     1.186000   \n",
       "50%                   269.900500  6.104110e+09  ...     2.506000   \n",
       "75%                   454.156500  1.019563e+10  ...     7.157750   \n",
       "max                  5417.000000  2.506494e+11  ...    43.580000   \n",
       "\n",
       "        av_transaction_value  full_name  coin     FEDFUNDS    gold_open  \\\n",
       "count            1976.000000       1976  1976  1976.000000  1974.000000   \n",
       "unique                   NaN          1     1          NaN          NaN   \n",
       "top                      NaN    bitcoin   btc          NaN          NaN   \n",
       "freq                     NaN       1976  1976          NaN          NaN   \n",
       "mean            31832.918522        NaN   NaN     1.076447  1365.277102   \n",
       "std             37712.731629        NaN   NaN     0.814899   220.274281   \n",
       "min              1166.000000        NaN   NaN     0.050000  1050.920000   \n",
       "25%              7661.750000        NaN   NaN     0.370000  1231.560000   \n",
       "50%             22874.000000        NaN   NaN     1.040000  1289.465000   \n",
       "75%             37737.500000        NaN   NaN     1.820000  1464.317500   \n",
       "max            812025.000000        NaN   NaN     2.420000  2066.550000   \n",
       "\n",
       "          gold_high     gold_low   gold_close    gold_volume  \n",
       "count   1974.000000  1974.000000  1974.000000    1976.000000  \n",
       "unique          NaN          NaN          NaN            NaN  \n",
       "top             NaN          NaN          NaN            NaN  \n",
       "freq            NaN          NaN          NaN            NaN  \n",
       "mean    1374.396221  1356.756515  1365.900517   69481.106781  \n",
       "std      222.890173   217.413201   220.379712   57573.239182  \n",
       "min     1063.460000  1046.230000  1051.550000       0.000000  \n",
       "25%     1238.785000  1224.420000  1232.472500       0.000000  \n",
       "50%     1295.765000  1282.675000  1290.470000   72045.000000  \n",
       "75%     1472.480000  1456.562500  1463.057500  107636.000000  \n",
       "max     2074.870000  2034.440000  2063.250000  352486.000000  \n",
       "\n",
       "[11 rows x 26 columns]"
      ],
      "text/html": [
       "<div>\n",
       "<style scoped>\n",
       "    .dataframe tbody tr th:only-of-type {\n",
       "        vertical-align: middle;\n",
       "    }\n",
       "\n",
       "    .dataframe tbody tr th {\n",
       "        vertical-align: top;\n",
       "    }\n",
       "\n",
       "    .dataframe thead th {\n",
       "        text-align: right;\n",
       "    }\n",
       "</style>\n",
       "<table border=\"1\" class=\"dataframe\">\n",
       "  <thead>\n",
       "    <tr style=\"text-align: right;\">\n",
       "      <th></th>\n",
       "      <th>active_addresses</th>\n",
       "      <th>tweets</th>\n",
       "      <th>top_100_percent</th>\n",
       "      <th>difficulty</th>\n",
       "      <th>transactions</th>\n",
       "      <th>av_transaction_size</th>\n",
       "      <th>market_cap</th>\n",
       "      <th>confirmation_time</th>\n",
       "      <th>median_transaction_value</th>\n",
       "      <th>send_usd</th>\n",
       "      <th>...</th>\n",
       "      <th>fee_reward</th>\n",
       "      <th>av_transaction_value</th>\n",
       "      <th>full_name</th>\n",
       "      <th>coin</th>\n",
       "      <th>FEDFUNDS</th>\n",
       "      <th>gold_open</th>\n",
       "      <th>gold_high</th>\n",
       "      <th>gold_low</th>\n",
       "      <th>gold_close</th>\n",
       "      <th>gold_volume</th>\n",
       "    </tr>\n",
       "  </thead>\n",
       "  <tbody>\n",
       "    <tr>\n",
       "      <th>count</th>\n",
       "      <td>1.976000e+03</td>\n",
       "      <td>1976.000000</td>\n",
       "      <td>1976.00000</td>\n",
       "      <td>1.976000e+03</td>\n",
       "      <td>1976.000000</td>\n",
       "      <td>0.0</td>\n",
       "      <td>1.976000e+03</td>\n",
       "      <td>1976.000000</td>\n",
       "      <td>1976.000000</td>\n",
       "      <td>1.976000e+03</td>\n",
       "      <td>...</td>\n",
       "      <td>1976.000000</td>\n",
       "      <td>1976.000000</td>\n",
       "      <td>1976</td>\n",
       "      <td>1976</td>\n",
       "      <td>1976.000000</td>\n",
       "      <td>1974.000000</td>\n",
       "      <td>1974.000000</td>\n",
       "      <td>1974.000000</td>\n",
       "      <td>1974.000000</td>\n",
       "      <td>1976.000000</td>\n",
       "    </tr>\n",
       "    <tr>\n",
       "      <th>unique</th>\n",
       "      <td>NaN</td>\n",
       "      <td>NaN</td>\n",
       "      <td>NaN</td>\n",
       "      <td>NaN</td>\n",
       "      <td>NaN</td>\n",
       "      <td>NaN</td>\n",
       "      <td>NaN</td>\n",
       "      <td>NaN</td>\n",
       "      <td>NaN</td>\n",
       "      <td>NaN</td>\n",
       "      <td>...</td>\n",
       "      <td>NaN</td>\n",
       "      <td>NaN</td>\n",
       "      <td>1</td>\n",
       "      <td>1</td>\n",
       "      <td>NaN</td>\n",
       "      <td>NaN</td>\n",
       "      <td>NaN</td>\n",
       "      <td>NaN</td>\n",
       "      <td>NaN</td>\n",
       "      <td>NaN</td>\n",
       "    </tr>\n",
       "    <tr>\n",
       "      <th>top</th>\n",
       "      <td>NaN</td>\n",
       "      <td>NaN</td>\n",
       "      <td>NaN</td>\n",
       "      <td>NaN</td>\n",
       "      <td>NaN</td>\n",
       "      <td>NaN</td>\n",
       "      <td>NaN</td>\n",
       "      <td>NaN</td>\n",
       "      <td>NaN</td>\n",
       "      <td>NaN</td>\n",
       "      <td>...</td>\n",
       "      <td>NaN</td>\n",
       "      <td>NaN</td>\n",
       "      <td>bitcoin</td>\n",
       "      <td>btc</td>\n",
       "      <td>NaN</td>\n",
       "      <td>NaN</td>\n",
       "      <td>NaN</td>\n",
       "      <td>NaN</td>\n",
       "      <td>NaN</td>\n",
       "      <td>NaN</td>\n",
       "    </tr>\n",
       "    <tr>\n",
       "      <th>freq</th>\n",
       "      <td>NaN</td>\n",
       "      <td>NaN</td>\n",
       "      <td>NaN</td>\n",
       "      <td>NaN</td>\n",
       "      <td>NaN</td>\n",
       "      <td>NaN</td>\n",
       "      <td>NaN</td>\n",
       "      <td>NaN</td>\n",
       "      <td>NaN</td>\n",
       "      <td>NaN</td>\n",
       "      <td>...</td>\n",
       "      <td>NaN</td>\n",
       "      <td>NaN</td>\n",
       "      <td>1976</td>\n",
       "      <td>1976</td>\n",
       "      <td>NaN</td>\n",
       "      <td>NaN</td>\n",
       "      <td>NaN</td>\n",
       "      <td>NaN</td>\n",
       "      <td>NaN</td>\n",
       "      <td>NaN</td>\n",
       "    </tr>\n",
       "    <tr>\n",
       "      <th>mean</th>\n",
       "      <td>5.843168e+05</td>\n",
       "      <td>32678.095648</td>\n",
       "      <td>17.27676</td>\n",
       "      <td>5.810740e+12</td>\n",
       "      <td>263987.419534</td>\n",
       "      <td>NaN</td>\n",
       "      <td>9.907483e+10</td>\n",
       "      <td>9.747864</td>\n",
       "      <td>382.409709</td>\n",
       "      <td>9.073012e+09</td>\n",
       "      <td>...</td>\n",
       "      <td>5.105907</td>\n",
       "      <td>31832.918522</td>\n",
       "      <td>NaN</td>\n",
       "      <td>NaN</td>\n",
       "      <td>1.076447</td>\n",
       "      <td>1365.277102</td>\n",
       "      <td>1374.396221</td>\n",
       "      <td>1356.756515</td>\n",
       "      <td>1365.900517</td>\n",
       "      <td>69481.106781</td>\n",
       "    </tr>\n",
       "    <tr>\n",
       "      <th>std</th>\n",
       "      <td>1.674547e+05</td>\n",
       "      <td>19650.751882</td>\n",
       "      <td>2.06081</td>\n",
       "      <td>6.229650e+12</td>\n",
       "      <td>66087.140860</td>\n",
       "      <td>NaN</td>\n",
       "      <td>8.470372e+10</td>\n",
       "      <td>1.115982</td>\n",
       "      <td>508.210073</td>\n",
       "      <td>1.186011e+10</td>\n",
       "      <td>...</td>\n",
       "      <td>5.853568</td>\n",
       "      <td>37712.731629</td>\n",
       "      <td>NaN</td>\n",
       "      <td>NaN</td>\n",
       "      <td>0.814899</td>\n",
       "      <td>220.274281</td>\n",
       "      <td>222.890173</td>\n",
       "      <td>217.413201</td>\n",
       "      <td>220.379712</td>\n",
       "      <td>57573.239182</td>\n",
       "    </tr>\n",
       "    <tr>\n",
       "      <th>min</th>\n",
       "      <td>1.133370e+05</td>\n",
       "      <td>0.000000</td>\n",
       "      <td>13.19900</td>\n",
       "      <td>5.227830e+10</td>\n",
       "      <td>89360.000000</td>\n",
       "      <td>NaN</td>\n",
       "      <td>3.075433e+09</td>\n",
       "      <td>6.667000</td>\n",
       "      <td>0.091700</td>\n",
       "      <td>1.761133e+08</td>\n",
       "      <td>...</td>\n",
       "      <td>0.457000</td>\n",
       "      <td>1166.000000</td>\n",
       "      <td>NaN</td>\n",
       "      <td>NaN</td>\n",
       "      <td>0.050000</td>\n",
       "      <td>1050.920000</td>\n",
       "      <td>1063.460000</td>\n",
       "      <td>1046.230000</td>\n",
       "      <td>1051.550000</td>\n",
       "      <td>0.000000</td>\n",
       "    </tr>\n",
       "    <tr>\n",
       "      <th>25%</th>\n",
       "      <td>4.632572e+05</td>\n",
       "      <td>20592.000000</td>\n",
       "      <td>15.19175</td>\n",
       "      <td>2.867658e+11</td>\n",
       "      <td>215575.000000</td>\n",
       "      <td>NaN</td>\n",
       "      <td>1.226913e+10</td>\n",
       "      <td>9.000000</td>\n",
       "      <td>151.822000</td>\n",
       "      <td>1.906453e+09</td>\n",
       "      <td>...</td>\n",
       "      <td>1.186000</td>\n",
       "      <td>7661.750000</td>\n",
       "      <td>NaN</td>\n",
       "      <td>NaN</td>\n",
       "      <td>0.370000</td>\n",
       "      <td>1231.560000</td>\n",
       "      <td>1238.785000</td>\n",
       "      <td>1224.420000</td>\n",
       "      <td>1232.472500</td>\n",
       "      <td>0.000000</td>\n",
       "    </tr>\n",
       "    <tr>\n",
       "      <th>50%</th>\n",
       "      <td>5.747140e+05</td>\n",
       "      <td>27169.500000</td>\n",
       "      <td>18.04800</td>\n",
       "      <td>3.817753e+12</td>\n",
       "      <td>268454.000000</td>\n",
       "      <td>NaN</td>\n",
       "      <td>9.743264e+10</td>\n",
       "      <td>9.664000</td>\n",
       "      <td>269.900500</td>\n",
       "      <td>6.104110e+09</td>\n",
       "      <td>...</td>\n",
       "      <td>2.506000</td>\n",
       "      <td>22874.000000</td>\n",
       "      <td>NaN</td>\n",
       "      <td>NaN</td>\n",
       "      <td>1.040000</td>\n",
       "      <td>1289.465000</td>\n",
       "      <td>1295.765000</td>\n",
       "      <td>1282.675000</td>\n",
       "      <td>1290.470000</td>\n",
       "      <td>72045.000000</td>\n",
       "    </tr>\n",
       "    <tr>\n",
       "      <th>75%</th>\n",
       "      <td>6.851215e+05</td>\n",
       "      <td>37816.750000</td>\n",
       "      <td>19.03850</td>\n",
       "      <td>1.018349e+13</td>\n",
       "      <td>315114.250000</td>\n",
       "      <td>NaN</td>\n",
       "      <td>1.593126e+11</td>\n",
       "      <td>10.360000</td>\n",
       "      <td>454.156500</td>\n",
       "      <td>1.019563e+10</td>\n",
       "      <td>...</td>\n",
       "      <td>7.157750</td>\n",
       "      <td>37737.500000</td>\n",
       "      <td>NaN</td>\n",
       "      <td>NaN</td>\n",
       "      <td>1.820000</td>\n",
       "      <td>1464.317500</td>\n",
       "      <td>1472.480000</td>\n",
       "      <td>1456.562500</td>\n",
       "      <td>1463.057500</td>\n",
       "      <td>107636.000000</td>\n",
       "    </tr>\n",
       "    <tr>\n",
       "      <th>max</th>\n",
       "      <td>1.133157e+06</td>\n",
       "      <td>155600.000000</td>\n",
       "      <td>21.17600</td>\n",
       "      <td>1.999734e+13</td>\n",
       "      <td>490459.000000</td>\n",
       "      <td>NaN</td>\n",
       "      <td>5.028765e+11</td>\n",
       "      <td>18.000000</td>\n",
       "      <td>5417.000000</td>\n",
       "      <td>2.506494e+11</td>\n",
       "      <td>...</td>\n",
       "      <td>43.580000</td>\n",
       "      <td>812025.000000</td>\n",
       "      <td>NaN</td>\n",
       "      <td>NaN</td>\n",
       "      <td>2.420000</td>\n",
       "      <td>2066.550000</td>\n",
       "      <td>2074.870000</td>\n",
       "      <td>2034.440000</td>\n",
       "      <td>2063.250000</td>\n",
       "      <td>352486.000000</td>\n",
       "    </tr>\n",
       "  </tbody>\n",
       "</table>\n",
       "<p>11 rows × 26 columns</p>\n",
       "</div>"
      ]
     },
     "execution_count": 280,
     "metadata": {},
     "output_type": "execute_result"
    }
   ],
   "execution_count": 280
  },
  {
   "metadata": {
    "ExecuteTime": {
     "end_time": "2025-09-16T14:23:13.919183Z",
     "start_time": "2025-09-16T14:23:13.913228Z"
    }
   },
   "cell_type": "code",
   "source": "df_merged['send_usd'].isna().sum()",
   "id": "203b30855f9db0fc",
   "outputs": [
    {
     "data": {
      "text/plain": [
       "np.int64(0)"
      ]
     },
     "execution_count": 281,
     "metadata": {},
     "output_type": "execute_result"
    }
   ],
   "execution_count": 281
  },
  {
   "metadata": {
    "ExecuteTime": {
     "end_time": "2025-09-16T14:23:14.040263Z",
     "start_time": "2025-09-16T14:23:14.029360Z"
    }
   },
   "cell_type": "code",
   "source": "df_merged[[\"send_usd\", \"gold_close\", \"FEDFUNDS\"]].corr()\n",
   "id": "3171abc53de9bbac",
   "outputs": [
    {
     "data": {
      "text/plain": [
       "            send_usd  gold_close  FEDFUNDS\n",
       "send_usd    1.000000    0.471698  0.045103\n",
       "gold_close  0.471698    1.000000 -0.231446\n",
       "FEDFUNDS    0.045103   -0.231446  1.000000"
      ],
      "text/html": [
       "<div>\n",
       "<style scoped>\n",
       "    .dataframe tbody tr th:only-of-type {\n",
       "        vertical-align: middle;\n",
       "    }\n",
       "\n",
       "    .dataframe tbody tr th {\n",
       "        vertical-align: top;\n",
       "    }\n",
       "\n",
       "    .dataframe thead th {\n",
       "        text-align: right;\n",
       "    }\n",
       "</style>\n",
       "<table border=\"1\" class=\"dataframe\">\n",
       "  <thead>\n",
       "    <tr style=\"text-align: right;\">\n",
       "      <th></th>\n",
       "      <th>send_usd</th>\n",
       "      <th>gold_close</th>\n",
       "      <th>FEDFUNDS</th>\n",
       "    </tr>\n",
       "  </thead>\n",
       "  <tbody>\n",
       "    <tr>\n",
       "      <th>send_usd</th>\n",
       "      <td>1.000000</td>\n",
       "      <td>0.471698</td>\n",
       "      <td>0.045103</td>\n",
       "    </tr>\n",
       "    <tr>\n",
       "      <th>gold_close</th>\n",
       "      <td>0.471698</td>\n",
       "      <td>1.000000</td>\n",
       "      <td>-0.231446</td>\n",
       "    </tr>\n",
       "    <tr>\n",
       "      <th>FEDFUNDS</th>\n",
       "      <td>0.045103</td>\n",
       "      <td>-0.231446</td>\n",
       "      <td>1.000000</td>\n",
       "    </tr>\n",
       "  </tbody>\n",
       "</table>\n",
       "</div>"
      ]
     },
     "execution_count": 282,
     "metadata": {},
     "output_type": "execute_result"
    }
   ],
   "execution_count": 282
  }
 ],
 "metadata": {
  "kernelspec": {
   "display_name": "venv bitcoin",
   "language": "python",
   "name": ".venv"
  },
  "language_info": {
   "codemirror_mode": {
    "name": "ipython",
    "version": 2
   },
   "file_extension": ".py",
   "mimetype": "text/x-python",
   "name": "python",
   "nbconvert_exporter": "python",
   "pygments_lexer": "ipython2",
   "version": "2.7.6"
  }
 },
 "nbformat": 4,
 "nbformat_minor": 5
}
