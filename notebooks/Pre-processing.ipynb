{
 "cells": [
  {
   "metadata": {
    "ExecuteTime": {
     "end_time": "2025-09-14T22:36:06.852478Z",
     "start_time": "2025-09-14T22:36:06.848327Z"
    }
   },
   "cell_type": "code",
   "source": [
    "import pandas as pd\n",
    "import matplotlib.pyplot as plt\n",
    "import numpy as np\n",
    "from sklearn.model_selection import train_test_split\n",
    "from sklearn.preprocessing import StandardScaler\n",
    "from sklearn.linear_model import LinearRegression\n",
    "from sklearn.pipeline import Pipeline\n",
    "from sklearn.metrics import mean_absolute_error, r2_score\n"
   ],
   "id": "790a6f7559f958ce",
   "outputs": [],
   "execution_count": 79
  },
  {
   "metadata": {},
   "cell_type": "markdown",
   "source": "# Pre-processing",
   "id": "9f12d99a58584229"
  },
  {
   "metadata": {
    "ExecuteTime": {
     "end_time": "2025-09-14T22:36:06.917473Z",
     "start_time": "2025-09-14T22:36:06.899328Z"
    }
   },
   "cell_type": "code",
   "source": [
    "df_bitcoin = pd.read_csv(\"../data/bitcoin_features.csv\", na_values=[\"null\", \"\"], keep_default_na=True, index_col=0)\n",
    "df_rates = pd.read_csv(\"../data/FEDFUNDS.csv\")"
   ],
   "id": "4ebfbfbec1cf380",
   "outputs": [],
   "execution_count": 80
  },
  {
   "metadata": {
    "ExecuteTime": {
     "end_time": "2025-09-14T22:36:06.963280Z",
     "start_time": "2025-09-14T22:36:06.957829Z"
    }
   },
   "cell_type": "code",
   "source": "df_bitcoin.columns.values",
   "id": "c5d81aaa6470df94",
   "outputs": [
    {
     "data": {
      "text/plain": [
       "array(['date', 'active_addresses', 'tweets', 'top_100_percent',\n",
       "       'difficulty', 'transactions', 'av_transaction_size', 'market_cap',\n",
       "       'confirmation_time', 'median_transaction_value', 'send_usd',\n",
       "       'google_trends', 'block_size', 'mining_profitability', 'hashrate',\n",
       "       'sent_addresses', 'median_transaction_size', 'fee_reward',\n",
       "       'av_transaction_value', 'full_name', 'coin'], dtype=object)"
      ]
     },
     "execution_count": 81,
     "metadata": {},
     "output_type": "execute_result"
    }
   ],
   "execution_count": 81
  },
  {
   "metadata": {
    "ExecuteTime": {
     "end_time": "2025-09-14T22:36:07.025312Z",
     "start_time": "2025-09-14T22:36:07.019150Z"
    }
   },
   "cell_type": "code",
   "source": "df_rates.columns.values",
   "id": "bc05824305f77378",
   "outputs": [
    {
     "data": {
      "text/plain": [
       "array(['observation_date', 'FEDFUNDS'], dtype=object)"
      ]
     },
     "execution_count": 82,
     "metadata": {},
     "output_type": "execute_result"
    }
   ],
   "execution_count": 82
  },
  {
   "metadata": {
    "ExecuteTime": {
     "end_time": "2025-09-14T22:36:07.086849Z",
     "start_time": "2025-09-14T22:36:07.080065Z"
    }
   },
   "cell_type": "code",
   "source": "df_bitcoin.dtypes",
   "id": "d7c3d1943bbb034c",
   "outputs": [
    {
     "data": {
      "text/plain": [
       "date                         object\n",
       "active_addresses            float64\n",
       "tweets                      float64\n",
       "top_100_percent             float64\n",
       "difficulty                  float64\n",
       "transactions                float64\n",
       "av_transaction_size         float64\n",
       "market_cap                  float64\n",
       "confirmation_time           float64\n",
       "median_transaction_value    float64\n",
       "send_usd                    float64\n",
       "google_trends               float64\n",
       "block_size                  float64\n",
       "mining_profitability        float64\n",
       "hashrate                    float64\n",
       "sent_addresses              float64\n",
       "median_transaction_size     float64\n",
       "fee_reward                  float64\n",
       "av_transaction_value        float64\n",
       "full_name                    object\n",
       "coin                         object\n",
       "dtype: object"
      ]
     },
     "execution_count": 83,
     "metadata": {},
     "output_type": "execute_result"
    }
   ],
   "execution_count": 83
  },
  {
   "metadata": {
    "ExecuteTime": {
     "end_time": "2025-09-14T22:36:07.214006Z",
     "start_time": "2025-09-14T22:36:07.205910Z"
    }
   },
   "cell_type": "code",
   "source": "df_rates.dtypes",
   "id": "c502f1e0c2d78b93",
   "outputs": [
    {
     "data": {
      "text/plain": [
       "observation_date     object\n",
       "FEDFUNDS            float64\n",
       "dtype: object"
      ]
     },
     "execution_count": 84,
     "metadata": {},
     "output_type": "execute_result"
    }
   ],
   "execution_count": 84
  },
  {
   "metadata": {
    "ExecuteTime": {
     "end_time": "2025-09-14T22:36:07.473052Z",
     "start_time": "2025-09-14T22:36:07.467042Z"
    }
   },
   "cell_type": "code",
   "source": "df_bitcoin.shape",
   "id": "c566a1494fe74815",
   "outputs": [
    {
     "data": {
      "text/plain": [
       "(4378, 21)"
      ]
     },
     "execution_count": 85,
     "metadata": {},
     "output_type": "execute_result"
    }
   ],
   "execution_count": 85
  },
  {
   "metadata": {
    "ExecuteTime": {
     "end_time": "2025-09-14T22:36:07.528969Z",
     "start_time": "2025-09-14T22:36:07.523383Z"
    }
   },
   "cell_type": "code",
   "source": "df_rates.shape",
   "id": "49a6fadc4507dd40",
   "outputs": [
    {
     "data": {
      "text/plain": [
       "(121, 2)"
      ]
     },
     "execution_count": 86,
     "metadata": {},
     "output_type": "execute_result"
    }
   ],
   "execution_count": 86
  },
  {
   "metadata": {
    "ExecuteTime": {
     "end_time": "2025-09-14T22:36:07.593339Z",
     "start_time": "2025-09-14T22:36:07.583213Z"
    }
   },
   "cell_type": "code",
   "source": "df_bitcoin.isna().sum()",
   "id": "7271e14a63a4ca5e",
   "outputs": [
    {
     "data": {
      "text/plain": [
       "date                           0\n",
       "active_addresses              27\n",
       "tweets                      1978\n",
       "top_100_percent               12\n",
       "difficulty                     6\n",
       "transactions                 261\n",
       "av_transaction_size         4378\n",
       "market_cap                   561\n",
       "confirmation_time              8\n",
       "median_transaction_value     561\n",
       "send_usd                     561\n",
       "google_trends                570\n",
       "block_size                     6\n",
       "mining_profitability         561\n",
       "hashrate                       7\n",
       "sent_addresses                 8\n",
       "median_transaction_size     1205\n",
       "fee_reward                   641\n",
       "av_transaction_value         561\n",
       "full_name                      0\n",
       "coin                           0\n",
       "dtype: int64"
      ]
     },
     "execution_count": 87,
     "metadata": {},
     "output_type": "execute_result"
    }
   ],
   "execution_count": 87
  },
  {
   "metadata": {
    "ExecuteTime": {
     "end_time": "2025-09-14T22:36:07.709137Z",
     "start_time": "2025-09-14T22:36:07.703732Z"
    }
   },
   "cell_type": "code",
   "source": "df_bitcoin.columns.values",
   "id": "8c503a85aeb1b30e",
   "outputs": [
    {
     "data": {
      "text/plain": [
       "array(['date', 'active_addresses', 'tweets', 'top_100_percent',\n",
       "       'difficulty', 'transactions', 'av_transaction_size', 'market_cap',\n",
       "       'confirmation_time', 'median_transaction_value', 'send_usd',\n",
       "       'google_trends', 'block_size', 'mining_profitability', 'hashrate',\n",
       "       'sent_addresses', 'median_transaction_size', 'fee_reward',\n",
       "       'av_transaction_value', 'full_name', 'coin'], dtype=object)"
      ]
     },
     "execution_count": 88,
     "metadata": {},
     "output_type": "execute_result"
    }
   ],
   "execution_count": 88
  },
  {
   "metadata": {
    "ExecuteTime": {
     "end_time": "2025-09-14T22:36:07.850563Z",
     "start_time": "2025-09-14T22:36:07.840817Z"
    }
   },
   "cell_type": "code",
   "source": "df_bitcoin.count()",
   "id": "fc83167dc08565b0",
   "outputs": [
    {
     "data": {
      "text/plain": [
       "date                        4378\n",
       "active_addresses            4351\n",
       "tweets                      2400\n",
       "top_100_percent             4366\n",
       "difficulty                  4372\n",
       "transactions                4117\n",
       "av_transaction_size            0\n",
       "market_cap                  3817\n",
       "confirmation_time           4370\n",
       "median_transaction_value    3817\n",
       "send_usd                    3817\n",
       "google_trends               3808\n",
       "block_size                  4372\n",
       "mining_profitability        3817\n",
       "hashrate                    4371\n",
       "sent_addresses              4370\n",
       "median_transaction_size     3173\n",
       "fee_reward                  3737\n",
       "av_transaction_value        3817\n",
       "full_name                   4378\n",
       "coin                        4378\n",
       "dtype: int64"
      ]
     },
     "execution_count": 89,
     "metadata": {},
     "output_type": "execute_result"
    }
   ],
   "execution_count": 89
  },
  {
   "metadata": {
    "ExecuteTime": {
     "end_time": "2025-09-14T22:36:07.974830Z",
     "start_time": "2025-09-14T22:36:07.967981Z"
    }
   },
   "cell_type": "code",
   "source": "df_bitcoin.shape",
   "id": "668fa8e43c09592c",
   "outputs": [
    {
     "data": {
      "text/plain": [
       "(4378, 21)"
      ]
     },
     "execution_count": 90,
     "metadata": {},
     "output_type": "execute_result"
    }
   ],
   "execution_count": 90
  },
  {
   "metadata": {
    "ExecuteTime": {
     "end_time": "2025-09-14T22:36:08.111656Z",
     "start_time": "2025-09-14T22:36:08.106552Z"
    }
   },
   "cell_type": "code",
   "source": [
    "target_col = 'send_usd'\n",
    "df_bitcoin[target_col] = pd.to_numeric(df_bitcoin[target_col], errors='coerce')"
   ],
   "id": "dc03ab234e7e976",
   "outputs": [],
   "execution_count": 91
  },
  {
   "metadata": {
    "ExecuteTime": {
     "end_time": "2025-09-14T22:36:08.171680Z",
     "start_time": "2025-09-14T22:36:08.157340Z"
    }
   },
   "cell_type": "code",
   "source": [
    "df_bitcoin['date'] = pd.to_datetime(df_bitcoin['date'])\n",
    "df_bitcoin = df_bitcoin.sort_values('date').reset_index(drop=True)\n",
    "df_bitcoin['tweets'] = df_bitcoin['tweets'].fillna(0)\n",
    "df_bitcoin['google_trends'] = df_bitcoin['google_trends'].fillna(0)\n",
    "daily_range = pd.date_range(df_bitcoin['date'].min(), df_bitcoin['date'].max(), freq='D')\n",
    "\n",
    "df_rates['observation_date'] = pd.to_datetime(df_rates['observation_date'])\n",
    "df_rates = df_rates.sort_values('observation_date').reset_index(drop=True)\n",
    "df_rates = df_rates.rename(columns={'observation_date': 'date'})\n",
    "df_rates['FEDFUNDS'] = pd.to_numeric(df_rates['FEDFUNDS'], errors='coerce')"
   ],
   "id": "2842373de60e90bf",
   "outputs": [],
   "execution_count": 92
  },
  {
   "metadata": {
    "ExecuteTime": {
     "end_time": "2025-09-14T22:36:08.223087Z",
     "start_time": "2025-09-14T22:36:08.211536Z"
    }
   },
   "cell_type": "code",
   "source": [
    "df_btc_daily = (\n",
    "    df_bitcoin.set_index('date')\n",
    "    .sort_index()\n",
    "    .reindex(daily_range)\n",
    "    .rename_axis('date')\n",
    ")\n",
    "numeric_cols = df_btc_daily.select_dtypes(include=[np.number]).columns.tolist()\n",
    "feature_cols_to_ffill = [c for c in numeric_cols if c != target_col]\n",
    "df_btc_daily[feature_cols_to_ffill] = df_btc_daily[feature_cols_to_ffill].ffill()"
   ],
   "id": "14803e97a591b16f",
   "outputs": [],
   "execution_count": 93
  },
  {
   "metadata": {
    "ExecuteTime": {
     "end_time": "2025-09-14T22:36:08.268256Z",
     "start_time": "2025-09-14T22:36:08.261548Z"
    }
   },
   "cell_type": "code",
   "source": [
    "df_rates_daily = df_rates.set_index('date').sort_index()\n",
    "df_rates_daily = df_rates_daily.reindex(daily_range).rename_axis('date')\n",
    "df_rates_daily['FEDFUNDS'] = df_rates_daily['FEDFUNDS'].ffill()"
   ],
   "id": "1437befaa77f7fd6",
   "outputs": [],
   "execution_count": 94
  },
  {
   "metadata": {
    "ExecuteTime": {
     "end_time": "2025-09-14T22:36:08.320169Z",
     "start_time": "2025-09-14T22:36:08.313891Z"
    }
   },
   "cell_type": "code",
   "source": "df_merged = df_btc_daily.join(df_rates_daily['FEDFUNDS'])",
   "id": "3185831568f4f2e1",
   "outputs": [],
   "execution_count": 95
  },
  {
   "metadata": {
    "ExecuteTime": {
     "end_time": "2025-09-14T22:36:08.371621Z",
     "start_time": "2025-09-14T22:36:08.365912Z"
    }
   },
   "cell_type": "code",
   "source": [
    "df_merged[target_col] = pd.to_numeric(df_merged[target_col], errors='coerce')\n",
    "df_merged = df_merged[(df_merged[target_col].notna()) & (df_merged[target_col] > 0)]"
   ],
   "id": "802c144c6e4725a4",
   "outputs": [],
   "execution_count": 96
  },
  {
   "metadata": {
    "ExecuteTime": {
     "end_time": "2025-09-14T22:36:08.424409Z",
     "start_time": "2025-09-14T22:36:08.419803Z"
    }
   },
   "cell_type": "code",
   "source": [
    "candidate_features = [\n",
    "    'active_addresses', 'transactions', 'av_transaction_size', 'median_transaction_value',\n",
    "    'av_transaction_value', 'block_size', 'hashrate', 'difficulty', 'sent_addresses',\n",
    "    'fee_reward', 'tweets', 'google_trends', 'mining_profitability', 'confirmation_time', 'FEDFUNDS'\n",
    "]\n",
    "present_feats = [c for c in candidate_features if c in df_merged.columns]"
   ],
   "id": "8640289732081ee0",
   "outputs": [],
   "execution_count": 97
  }
 ],
 "metadata": {
  "kernelspec": {
   "display_name": "venv bitcoin",
   "language": "python",
   "name": ".venv"
  },
  "language_info": {
   "codemirror_mode": {
    "name": "ipython",
    "version": 2
   },
   "file_extension": ".py",
   "mimetype": "text/x-python",
   "name": "python",
   "nbconvert_exporter": "python",
   "pygments_lexer": "ipython2",
   "version": "2.7.6"
  }
 },
 "nbformat": 4,
 "nbformat_minor": 5
}
