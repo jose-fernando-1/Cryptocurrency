{
 "cells": [
  {
   "metadata": {
    "ExecuteTime": {
     "end_time": "2025-09-09T17:15:42.351899Z",
     "start_time": "2025-09-09T17:15:42.348285Z"
    }
   },
   "cell_type": "code",
   "source": [
    "import pandas as pd\n",
    "import matplotlib.pyplot as plt"
   ],
   "id": "790a6f7559f958ce",
   "outputs": [],
   "execution_count": 29
  },
  {
   "metadata": {
    "ExecuteTime": {
     "end_time": "2025-09-09T17:15:42.424924Z",
     "start_time": "2025-09-09T17:15:42.404997Z"
    }
   },
   "cell_type": "code",
   "source": [
    "df_bitcoin = pd.read_csv(\"../data/bitcoin_features.csv\", index_col=0)\n",
    "df_rates = pd.read_csv(\"../data/FEDFUNDS.csv\")"
   ],
   "id": "4ebfbfbec1cf380",
   "outputs": [],
   "execution_count": 30
  },
  {
   "metadata": {
    "ExecuteTime": {
     "end_time": "2025-09-09T17:15:42.463218Z",
     "start_time": "2025-09-09T17:15:42.457888Z"
    }
   },
   "cell_type": "code",
   "source": "df_bitcoin.shape",
   "id": "c566a1494fe74815",
   "outputs": [
    {
     "data": {
      "text/plain": [
       "(4378, 21)"
      ]
     },
     "execution_count": 31,
     "metadata": {},
     "output_type": "execute_result"
    }
   ],
   "execution_count": 31
  },
  {
   "metadata": {
    "ExecuteTime": {
     "end_time": "2025-09-09T17:15:42.518871Z",
     "start_time": "2025-09-09T17:15:42.513008Z"
    }
   },
   "cell_type": "code",
   "source": "df_rates.shape",
   "id": "49a6fadc4507dd40",
   "outputs": [
    {
     "data": {
      "text/plain": [
       "(121, 2)"
      ]
     },
     "execution_count": 32,
     "metadata": {},
     "output_type": "execute_result"
    }
   ],
   "execution_count": 32
  },
  {
   "metadata": {
    "ExecuteTime": {
     "end_time": "2025-09-09T17:15:42.578467Z",
     "start_time": "2025-09-09T17:15:42.571137Z"
    }
   },
   "cell_type": "code",
   "source": "df_bitcoin.dtypes",
   "id": "acb0373e0b4fcb36",
   "outputs": [
    {
     "data": {
      "text/plain": [
       "date                         object\n",
       "active_addresses            float64\n",
       "tweets                      float64\n",
       "top_100_percent             float64\n",
       "difficulty                  float64\n",
       "transactions                float64\n",
       "av_transaction_size         float64\n",
       "market_cap                  float64\n",
       "confirmation_time           float64\n",
       "median_transaction_value    float64\n",
       "send_usd                    float64\n",
       "google_trends               float64\n",
       "block_size                  float64\n",
       "mining_profitability        float64\n",
       "hashrate                    float64\n",
       "sent_addresses              float64\n",
       "median_transaction_size     float64\n",
       "fee_reward                  float64\n",
       "av_transaction_value        float64\n",
       "full_name                    object\n",
       "coin                         object\n",
       "dtype: object"
      ]
     },
     "execution_count": 33,
     "metadata": {},
     "output_type": "execute_result"
    }
   ],
   "execution_count": 33
  },
  {
   "metadata": {
    "ExecuteTime": {
     "end_time": "2025-09-09T17:15:42.693696Z",
     "start_time": "2025-09-09T17:15:42.687589Z"
    }
   },
   "cell_type": "code",
   "source": "df_rates.dtypes",
   "id": "6f75c55c5a4b8467",
   "outputs": [
    {
     "data": {
      "text/plain": [
       "observation_date     object\n",
       "FEDFUNDS            float64\n",
       "dtype: object"
      ]
     },
     "execution_count": 34,
     "metadata": {},
     "output_type": "execute_result"
    }
   ],
   "execution_count": 34
  },
  {
   "metadata": {
    "ExecuteTime": {
     "end_time": "2025-09-09T17:15:42.959942Z",
     "start_time": "2025-09-09T17:15:42.951638Z"
    }
   },
   "cell_type": "code",
   "source": [
    "df_bitcoin = df_bitcoin.dropna()\n",
    "df_bitcoin.isna().sum()"
   ],
   "id": "1ab5ed3e1d8659a9",
   "outputs": [
    {
     "data": {
      "text/plain": [
       "date                        0\n",
       "active_addresses            0\n",
       "tweets                      0\n",
       "top_100_percent             0\n",
       "difficulty                  0\n",
       "transactions                0\n",
       "av_transaction_size         0\n",
       "market_cap                  0\n",
       "confirmation_time           0\n",
       "median_transaction_value    0\n",
       "send_usd                    0\n",
       "google_trends               0\n",
       "block_size                  0\n",
       "mining_profitability        0\n",
       "hashrate                    0\n",
       "sent_addresses              0\n",
       "median_transaction_size     0\n",
       "fee_reward                  0\n",
       "av_transaction_value        0\n",
       "full_name                   0\n",
       "coin                        0\n",
       "dtype: int64"
      ]
     },
     "execution_count": 35,
     "metadata": {},
     "output_type": "execute_result"
    }
   ],
   "execution_count": 35
  },
  {
   "metadata": {
    "ExecuteTime": {
     "end_time": "2025-09-09T17:15:43.125054Z",
     "start_time": "2025-09-09T17:15:43.113144Z"
    }
   },
   "cell_type": "code",
   "source": "df_bitcoin.head()",
   "id": "8c503a85aeb1b30e",
   "outputs": [
    {
     "data": {
      "text/plain": [
       "Empty DataFrame\n",
       "Columns: [date, active_addresses, tweets, top_100_percent, difficulty, transactions, av_transaction_size, market_cap, confirmation_time, median_transaction_value, send_usd, google_trends, block_size, mining_profitability, hashrate, sent_addresses, median_transaction_size, fee_reward, av_transaction_value, full_name, coin]\n",
       "Index: []\n",
       "\n",
       "[0 rows x 21 columns]"
      ],
      "text/html": [
       "<div>\n",
       "<style scoped>\n",
       "    .dataframe tbody tr th:only-of-type {\n",
       "        vertical-align: middle;\n",
       "    }\n",
       "\n",
       "    .dataframe tbody tr th {\n",
       "        vertical-align: top;\n",
       "    }\n",
       "\n",
       "    .dataframe thead th {\n",
       "        text-align: right;\n",
       "    }\n",
       "</style>\n",
       "<table border=\"1\" class=\"dataframe\">\n",
       "  <thead>\n",
       "    <tr style=\"text-align: right;\">\n",
       "      <th></th>\n",
       "      <th>date</th>\n",
       "      <th>active_addresses</th>\n",
       "      <th>tweets</th>\n",
       "      <th>top_100_percent</th>\n",
       "      <th>difficulty</th>\n",
       "      <th>transactions</th>\n",
       "      <th>av_transaction_size</th>\n",
       "      <th>market_cap</th>\n",
       "      <th>confirmation_time</th>\n",
       "      <th>median_transaction_value</th>\n",
       "      <th>...</th>\n",
       "      <th>google_trends</th>\n",
       "      <th>block_size</th>\n",
       "      <th>mining_profitability</th>\n",
       "      <th>hashrate</th>\n",
       "      <th>sent_addresses</th>\n",
       "      <th>median_transaction_size</th>\n",
       "      <th>fee_reward</th>\n",
       "      <th>av_transaction_value</th>\n",
       "      <th>full_name</th>\n",
       "      <th>coin</th>\n",
       "    </tr>\n",
       "  </thead>\n",
       "  <tbody>\n",
       "  </tbody>\n",
       "</table>\n",
       "<p>0 rows × 21 columns</p>\n",
       "</div>"
      ]
     },
     "execution_count": 36,
     "metadata": {},
     "output_type": "execute_result"
    }
   ],
   "execution_count": 36
  }
 ],
 "metadata": {
  "kernelspec": {
   "display_name": "venv bitcoin",
   "language": "python",
   "name": ".venv"
  },
  "language_info": {
   "codemirror_mode": {
    "name": "ipython",
    "version": 2
   },
   "file_extension": ".py",
   "mimetype": "text/x-python",
   "name": "python",
   "nbconvert_exporter": "python",
   "pygments_lexer": "ipython2",
   "version": "2.7.6"
  }
 },
 "nbformat": 4,
 "nbformat_minor": 5
}
